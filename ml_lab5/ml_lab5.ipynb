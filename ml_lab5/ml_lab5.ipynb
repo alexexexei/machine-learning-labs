{
  "nbformat": 4,
  "nbformat_minor": 0,
  "metadata": {
    "colab": {
      "provenance": []
    },
    "kernelspec": {
      "name": "python3",
      "display_name": "Python 3"
    },
    "language_info": {
      "name": "python"
    }
  },
  "cells": [
    {
      "cell_type": "markdown",
      "source": [
        "#Машинное обучение, Лабораторная работа №5\n",
        "\n",
        "**Преподаватель**: Свинцов М. В.\n",
        "\n",
        "**Выполнили**: Румянцев А. А. 368731, Чебаненко Д. А. 367609, R3341, МашОб 31 1.\n",
        "\n",
        "**Цель работы**: построить модели классификации на основе ансамблевых алгоритмов: бэггинг и градиентный бустинг, содержащие в качестве базовых алгоритмов решающие деревья.\n",
        "\n",
        "**Инструменты**: бэггинг решающих деревьев (случайный лес, RandomForestClassifier), градиентный бустинг над решающими деревьями (GradientBoostingClassifier).\n",
        "\n"
      ],
      "metadata": {
        "id": "mvvNA1R8wniJ"
      }
    },
    {
      "cell_type": "markdown",
      "source": [
        "##Содержание\n",
        "\n",
        "Построить модели классификации для соответствующего датасета. Для этого:\n",
        "1. Воспользоваться результатами Лабораторной работы №1 по препроцессингу данных.\n",
        "2. Разбить данные на обучающую и тестовую выборки (например, в соотношении 80/20).\n",
        "3. Построить модели классификаторов при различных наборов гиперпараметров (выбрать самостоятельно).\n",
        "4. Обучить модели на обучающих частях выборки.\n",
        "5. Провести сравнительную оценку качества моделей на основе тестовой выборки. Критерии сравнения определяются самостоятельно."
      ],
      "metadata": {
        "id": "_1Reb0YowzHP"
      }
    },
    {
      "cell_type": "markdown",
      "source": [
        "#Подготовка"
      ],
      "metadata": {
        "id": "ZnZ6G9-RjwVW"
      }
    },
    {
      "cell_type": "markdown",
      "source": [
        "##Импорт необходимых библиотек"
      ],
      "metadata": {
        "id": "G7w7lyTdkLcd"
      }
    },
    {
      "cell_type": "markdown",
      "source": [
        "Будем работать с таблицами, вычислениями, моделями и графиками."
      ],
      "metadata": {
        "id": "XvxK0Il4dQe5"
      }
    },
    {
      "cell_type": "code",
      "source": [
        "import pandas as pd\n",
        "import numpy as np\n",
        "import matplotlib.pyplot as plt\n",
        "from google.colab import drive\n",
        "from sklearn.model_selection import train_test_split, GridSearchCV\n",
        "from sklearn.ensemble import RandomForestClassifier, GradientBoostingClassifier\n",
        "from sklearn.metrics import classification_report, roc_curve, auc, precision_recall_curve"
      ],
      "metadata": {
        "id": "vC-A6RPiu8KR"
      },
      "execution_count": null,
      "outputs": []
    },
    {
      "cell_type": "markdown",
      "source": [
        "##Подключение диска"
      ],
      "metadata": {
        "id": "QmY6YicckOVu"
      }
    },
    {
      "cell_type": "markdown",
      "source": [
        "Подключим диск, чтобы иметь доступ к сохраненным в первой лабораторной датасетам."
      ],
      "metadata": {
        "id": "heTtg0uIdkgT"
      }
    },
    {
      "cell_type": "code",
      "execution_count": null,
      "metadata": {
        "colab": {
          "base_uri": "https://localhost:8080/"
        },
        "id": "SZrh4ocmwIqy",
        "outputId": "5dd82961-ab0a-4631-f592-7feb65ceeda4"
      },
      "outputs": [
        {
          "output_type": "stream",
          "name": "stdout",
          "text": [
            "Mounted at /content/drive\n"
          ]
        }
      ],
      "source": [
        "drive.mount('/content/drive')"
      ]
    },
    {
      "cell_type": "markdown",
      "source": [
        "##Считывание датасета"
      ],
      "metadata": {
        "id": "b-QB9p1rkRRk"
      }
    },
    {
      "cell_type": "markdown",
      "source": [
        "В этой лабораторной работаем только с классификацией. Считаем соответствующий датасет, обработанный в первой лабораторной работе. Выведем таблицу"
      ],
      "metadata": {
        "id": "sxSio_Djdq_k"
      }
    },
    {
      "cell_type": "code",
      "source": [
        "df_classif=pd.read_csv('drive/My Drive/new_heart.csv')\n",
        "df_classif"
      ],
      "metadata": {
        "id": "8ggrISOf5GdX",
        "colab": {
          "base_uri": "https://localhost:8080/",
          "height": 424
        },
        "outputId": "76ab1391-25d2-4637-a094-2e45af8f9765"
      },
      "execution_count": null,
      "outputs": [
        {
          "output_type": "execute_result",
          "data": {
            "text/plain": [
              "      oldpeak  age_heart_rate_reserve  physical_fitness  sex  cp  exang  \\\n",
              "0    1.087338               -0.606321          0.298233    1   3      0   \n",
              "1    2.122573                2.301531         -1.006925    1   2      0   \n",
              "2    0.310912                1.566541         -0.715457    0   1      0   \n",
              "3   -0.206705                0.374341         -1.108028    1   1      0   \n",
              "4   -0.379244               -0.002645         -0.809770    0   0      1   \n",
              "..        ...                     ...               ...  ...  ..    ...   \n",
              "298 -0.724323               -0.833661          1.122947    0   0      1   \n",
              "299  0.138373                0.066187         -0.342777    1   3      0   \n",
              "300  2.036303               -0.990186          0.560774    1   0      0   \n",
              "301  0.138373               -1.022528          1.085560    1   0      1   \n",
              "302 -0.896862                0.240784         -0.757223    0   1      0   \n",
              "\n",
              "     slope  ca  thal  target  \n",
              "0        0   0     1       1  \n",
              "1        0   0     2       1  \n",
              "2        2   0     2       1  \n",
              "3        2   0     2       1  \n",
              "4        2   0     2       1  \n",
              "..     ...  ..   ...     ...  \n",
              "298      1   0     3       0  \n",
              "299      1   0     3       0  \n",
              "300      1   2     3       0  \n",
              "301      1   1     3       0  \n",
              "302      1   1     2       0  \n",
              "\n",
              "[303 rows x 10 columns]"
            ],
            "text/html": [
              "\n",
              "  <div id=\"df-82873f21-a709-4951-9399-a5a982657770\" class=\"colab-df-container\">\n",
              "    <div>\n",
              "<style scoped>\n",
              "    .dataframe tbody tr th:only-of-type {\n",
              "        vertical-align: middle;\n",
              "    }\n",
              "\n",
              "    .dataframe tbody tr th {\n",
              "        vertical-align: top;\n",
              "    }\n",
              "\n",
              "    .dataframe thead th {\n",
              "        text-align: right;\n",
              "    }\n",
              "</style>\n",
              "<table border=\"1\" class=\"dataframe\">\n",
              "  <thead>\n",
              "    <tr style=\"text-align: right;\">\n",
              "      <th></th>\n",
              "      <th>oldpeak</th>\n",
              "      <th>age_heart_rate_reserve</th>\n",
              "      <th>physical_fitness</th>\n",
              "      <th>sex</th>\n",
              "      <th>cp</th>\n",
              "      <th>exang</th>\n",
              "      <th>slope</th>\n",
              "      <th>ca</th>\n",
              "      <th>thal</th>\n",
              "      <th>target</th>\n",
              "    </tr>\n",
              "  </thead>\n",
              "  <tbody>\n",
              "    <tr>\n",
              "      <th>0</th>\n",
              "      <td>1.087338</td>\n",
              "      <td>-0.606321</td>\n",
              "      <td>0.298233</td>\n",
              "      <td>1</td>\n",
              "      <td>3</td>\n",
              "      <td>0</td>\n",
              "      <td>0</td>\n",
              "      <td>0</td>\n",
              "      <td>1</td>\n",
              "      <td>1</td>\n",
              "    </tr>\n",
              "    <tr>\n",
              "      <th>1</th>\n",
              "      <td>2.122573</td>\n",
              "      <td>2.301531</td>\n",
              "      <td>-1.006925</td>\n",
              "      <td>1</td>\n",
              "      <td>2</td>\n",
              "      <td>0</td>\n",
              "      <td>0</td>\n",
              "      <td>0</td>\n",
              "      <td>2</td>\n",
              "      <td>1</td>\n",
              "    </tr>\n",
              "    <tr>\n",
              "      <th>2</th>\n",
              "      <td>0.310912</td>\n",
              "      <td>1.566541</td>\n",
              "      <td>-0.715457</td>\n",
              "      <td>0</td>\n",
              "      <td>1</td>\n",
              "      <td>0</td>\n",
              "      <td>2</td>\n",
              "      <td>0</td>\n",
              "      <td>2</td>\n",
              "      <td>1</td>\n",
              "    </tr>\n",
              "    <tr>\n",
              "      <th>3</th>\n",
              "      <td>-0.206705</td>\n",
              "      <td>0.374341</td>\n",
              "      <td>-1.108028</td>\n",
              "      <td>1</td>\n",
              "      <td>1</td>\n",
              "      <td>0</td>\n",
              "      <td>2</td>\n",
              "      <td>0</td>\n",
              "      <td>2</td>\n",
              "      <td>1</td>\n",
              "    </tr>\n",
              "    <tr>\n",
              "      <th>4</th>\n",
              "      <td>-0.379244</td>\n",
              "      <td>-0.002645</td>\n",
              "      <td>-0.809770</td>\n",
              "      <td>0</td>\n",
              "      <td>0</td>\n",
              "      <td>1</td>\n",
              "      <td>2</td>\n",
              "      <td>0</td>\n",
              "      <td>2</td>\n",
              "      <td>1</td>\n",
              "    </tr>\n",
              "    <tr>\n",
              "      <th>...</th>\n",
              "      <td>...</td>\n",
              "      <td>...</td>\n",
              "      <td>...</td>\n",
              "      <td>...</td>\n",
              "      <td>...</td>\n",
              "      <td>...</td>\n",
              "      <td>...</td>\n",
              "      <td>...</td>\n",
              "      <td>...</td>\n",
              "      <td>...</td>\n",
              "    </tr>\n",
              "    <tr>\n",
              "      <th>298</th>\n",
              "      <td>-0.724323</td>\n",
              "      <td>-0.833661</td>\n",
              "      <td>1.122947</td>\n",
              "      <td>0</td>\n",
              "      <td>0</td>\n",
              "      <td>1</td>\n",
              "      <td>1</td>\n",
              "      <td>0</td>\n",
              "      <td>3</td>\n",
              "      <td>0</td>\n",
              "    </tr>\n",
              "    <tr>\n",
              "      <th>299</th>\n",
              "      <td>0.138373</td>\n",
              "      <td>0.066187</td>\n",
              "      <td>-0.342777</td>\n",
              "      <td>1</td>\n",
              "      <td>3</td>\n",
              "      <td>0</td>\n",
              "      <td>1</td>\n",
              "      <td>0</td>\n",
              "      <td>3</td>\n",
              "      <td>0</td>\n",
              "    </tr>\n",
              "    <tr>\n",
              "      <th>300</th>\n",
              "      <td>2.036303</td>\n",
              "      <td>-0.990186</td>\n",
              "      <td>0.560774</td>\n",
              "      <td>1</td>\n",
              "      <td>0</td>\n",
              "      <td>0</td>\n",
              "      <td>1</td>\n",
              "      <td>2</td>\n",
              "      <td>3</td>\n",
              "      <td>0</td>\n",
              "    </tr>\n",
              "    <tr>\n",
              "      <th>301</th>\n",
              "      <td>0.138373</td>\n",
              "      <td>-1.022528</td>\n",
              "      <td>1.085560</td>\n",
              "      <td>1</td>\n",
              "      <td>0</td>\n",
              "      <td>1</td>\n",
              "      <td>1</td>\n",
              "      <td>1</td>\n",
              "      <td>3</td>\n",
              "      <td>0</td>\n",
              "    </tr>\n",
              "    <tr>\n",
              "      <th>302</th>\n",
              "      <td>-0.896862</td>\n",
              "      <td>0.240784</td>\n",
              "      <td>-0.757223</td>\n",
              "      <td>0</td>\n",
              "      <td>1</td>\n",
              "      <td>0</td>\n",
              "      <td>1</td>\n",
              "      <td>1</td>\n",
              "      <td>2</td>\n",
              "      <td>0</td>\n",
              "    </tr>\n",
              "  </tbody>\n",
              "</table>\n",
              "<p>303 rows × 10 columns</p>\n",
              "</div>\n",
              "    <div class=\"colab-df-buttons\">\n",
              "\n",
              "  <div class=\"colab-df-container\">\n",
              "    <button class=\"colab-df-convert\" onclick=\"convertToInteractive('df-82873f21-a709-4951-9399-a5a982657770')\"\n",
              "            title=\"Convert this dataframe to an interactive table.\"\n",
              "            style=\"display:none;\">\n",
              "\n",
              "  <svg xmlns=\"http://www.w3.org/2000/svg\" height=\"24px\" viewBox=\"0 -960 960 960\">\n",
              "    <path d=\"M120-120v-720h720v720H120Zm60-500h600v-160H180v160Zm220 220h160v-160H400v160Zm0 220h160v-160H400v160ZM180-400h160v-160H180v160Zm440 0h160v-160H620v160ZM180-180h160v-160H180v160Zm440 0h160v-160H620v160Z\"/>\n",
              "  </svg>\n",
              "    </button>\n",
              "\n",
              "  <style>\n",
              "    .colab-df-container {\n",
              "      display:flex;\n",
              "      gap: 12px;\n",
              "    }\n",
              "\n",
              "    .colab-df-convert {\n",
              "      background-color: #E8F0FE;\n",
              "      border: none;\n",
              "      border-radius: 50%;\n",
              "      cursor: pointer;\n",
              "      display: none;\n",
              "      fill: #1967D2;\n",
              "      height: 32px;\n",
              "      padding: 0 0 0 0;\n",
              "      width: 32px;\n",
              "    }\n",
              "\n",
              "    .colab-df-convert:hover {\n",
              "      background-color: #E2EBFA;\n",
              "      box-shadow: 0px 1px 2px rgba(60, 64, 67, 0.3), 0px 1px 3px 1px rgba(60, 64, 67, 0.15);\n",
              "      fill: #174EA6;\n",
              "    }\n",
              "\n",
              "    .colab-df-buttons div {\n",
              "      margin-bottom: 4px;\n",
              "    }\n",
              "\n",
              "    [theme=dark] .colab-df-convert {\n",
              "      background-color: #3B4455;\n",
              "      fill: #D2E3FC;\n",
              "    }\n",
              "\n",
              "    [theme=dark] .colab-df-convert:hover {\n",
              "      background-color: #434B5C;\n",
              "      box-shadow: 0px 1px 3px 1px rgba(0, 0, 0, 0.15);\n",
              "      filter: drop-shadow(0px 1px 2px rgba(0, 0, 0, 0.3));\n",
              "      fill: #FFFFFF;\n",
              "    }\n",
              "  </style>\n",
              "\n",
              "    <script>\n",
              "      const buttonEl =\n",
              "        document.querySelector('#df-82873f21-a709-4951-9399-a5a982657770 button.colab-df-convert');\n",
              "      buttonEl.style.display =\n",
              "        google.colab.kernel.accessAllowed ? 'block' : 'none';\n",
              "\n",
              "      async function convertToInteractive(key) {\n",
              "        const element = document.querySelector('#df-82873f21-a709-4951-9399-a5a982657770');\n",
              "        const dataTable =\n",
              "          await google.colab.kernel.invokeFunction('convertToInteractive',\n",
              "                                                    [key], {});\n",
              "        if (!dataTable) return;\n",
              "\n",
              "        const docLinkHtml = 'Like what you see? Visit the ' +\n",
              "          '<a target=\"_blank\" href=https://colab.research.google.com/notebooks/data_table.ipynb>data table notebook</a>'\n",
              "          + ' to learn more about interactive tables.';\n",
              "        element.innerHTML = '';\n",
              "        dataTable['output_type'] = 'display_data';\n",
              "        await google.colab.output.renderOutput(dataTable, element);\n",
              "        const docLink = document.createElement('div');\n",
              "        docLink.innerHTML = docLinkHtml;\n",
              "        element.appendChild(docLink);\n",
              "      }\n",
              "    </script>\n",
              "  </div>\n",
              "\n",
              "\n",
              "<div id=\"df-87655b0d-f452-495b-9a5c-76d34d75f782\">\n",
              "  <button class=\"colab-df-quickchart\" onclick=\"quickchart('df-87655b0d-f452-495b-9a5c-76d34d75f782')\"\n",
              "            title=\"Suggest charts\"\n",
              "            style=\"display:none;\">\n",
              "\n",
              "<svg xmlns=\"http://www.w3.org/2000/svg\" height=\"24px\"viewBox=\"0 0 24 24\"\n",
              "     width=\"24px\">\n",
              "    <g>\n",
              "        <path d=\"M19 3H5c-1.1 0-2 .9-2 2v14c0 1.1.9 2 2 2h14c1.1 0 2-.9 2-2V5c0-1.1-.9-2-2-2zM9 17H7v-7h2v7zm4 0h-2V7h2v10zm4 0h-2v-4h2v4z\"/>\n",
              "    </g>\n",
              "</svg>\n",
              "  </button>\n",
              "\n",
              "<style>\n",
              "  .colab-df-quickchart {\n",
              "      --bg-color: #E8F0FE;\n",
              "      --fill-color: #1967D2;\n",
              "      --hover-bg-color: #E2EBFA;\n",
              "      --hover-fill-color: #174EA6;\n",
              "      --disabled-fill-color: #AAA;\n",
              "      --disabled-bg-color: #DDD;\n",
              "  }\n",
              "\n",
              "  [theme=dark] .colab-df-quickchart {\n",
              "      --bg-color: #3B4455;\n",
              "      --fill-color: #D2E3FC;\n",
              "      --hover-bg-color: #434B5C;\n",
              "      --hover-fill-color: #FFFFFF;\n",
              "      --disabled-bg-color: #3B4455;\n",
              "      --disabled-fill-color: #666;\n",
              "  }\n",
              "\n",
              "  .colab-df-quickchart {\n",
              "    background-color: var(--bg-color);\n",
              "    border: none;\n",
              "    border-radius: 50%;\n",
              "    cursor: pointer;\n",
              "    display: none;\n",
              "    fill: var(--fill-color);\n",
              "    height: 32px;\n",
              "    padding: 0;\n",
              "    width: 32px;\n",
              "  }\n",
              "\n",
              "  .colab-df-quickchart:hover {\n",
              "    background-color: var(--hover-bg-color);\n",
              "    box-shadow: 0 1px 2px rgba(60, 64, 67, 0.3), 0 1px 3px 1px rgba(60, 64, 67, 0.15);\n",
              "    fill: var(--button-hover-fill-color);\n",
              "  }\n",
              "\n",
              "  .colab-df-quickchart-complete:disabled,\n",
              "  .colab-df-quickchart-complete:disabled:hover {\n",
              "    background-color: var(--disabled-bg-color);\n",
              "    fill: var(--disabled-fill-color);\n",
              "    box-shadow: none;\n",
              "  }\n",
              "\n",
              "  .colab-df-spinner {\n",
              "    border: 2px solid var(--fill-color);\n",
              "    border-color: transparent;\n",
              "    border-bottom-color: var(--fill-color);\n",
              "    animation:\n",
              "      spin 1s steps(1) infinite;\n",
              "  }\n",
              "\n",
              "  @keyframes spin {\n",
              "    0% {\n",
              "      border-color: transparent;\n",
              "      border-bottom-color: var(--fill-color);\n",
              "      border-left-color: var(--fill-color);\n",
              "    }\n",
              "    20% {\n",
              "      border-color: transparent;\n",
              "      border-left-color: var(--fill-color);\n",
              "      border-top-color: var(--fill-color);\n",
              "    }\n",
              "    30% {\n",
              "      border-color: transparent;\n",
              "      border-left-color: var(--fill-color);\n",
              "      border-top-color: var(--fill-color);\n",
              "      border-right-color: var(--fill-color);\n",
              "    }\n",
              "    40% {\n",
              "      border-color: transparent;\n",
              "      border-right-color: var(--fill-color);\n",
              "      border-top-color: var(--fill-color);\n",
              "    }\n",
              "    60% {\n",
              "      border-color: transparent;\n",
              "      border-right-color: var(--fill-color);\n",
              "    }\n",
              "    80% {\n",
              "      border-color: transparent;\n",
              "      border-right-color: var(--fill-color);\n",
              "      border-bottom-color: var(--fill-color);\n",
              "    }\n",
              "    90% {\n",
              "      border-color: transparent;\n",
              "      border-bottom-color: var(--fill-color);\n",
              "    }\n",
              "  }\n",
              "</style>\n",
              "\n",
              "  <script>\n",
              "    async function quickchart(key) {\n",
              "      const quickchartButtonEl =\n",
              "        document.querySelector('#' + key + ' button');\n",
              "      quickchartButtonEl.disabled = true;  // To prevent multiple clicks.\n",
              "      quickchartButtonEl.classList.add('colab-df-spinner');\n",
              "      try {\n",
              "        const charts = await google.colab.kernel.invokeFunction(\n",
              "            'suggestCharts', [key], {});\n",
              "      } catch (error) {\n",
              "        console.error('Error during call to suggestCharts:', error);\n",
              "      }\n",
              "      quickchartButtonEl.classList.remove('colab-df-spinner');\n",
              "      quickchartButtonEl.classList.add('colab-df-quickchart-complete');\n",
              "    }\n",
              "    (() => {\n",
              "      let quickchartButtonEl =\n",
              "        document.querySelector('#df-87655b0d-f452-495b-9a5c-76d34d75f782 button');\n",
              "      quickchartButtonEl.style.display =\n",
              "        google.colab.kernel.accessAllowed ? 'block' : 'none';\n",
              "    })();\n",
              "  </script>\n",
              "</div>\n",
              "\n",
              "  <div id=\"id_2c30c823-2312-4279-a430-b11e19c0dd6a\">\n",
              "    <style>\n",
              "      .colab-df-generate {\n",
              "        background-color: #E8F0FE;\n",
              "        border: none;\n",
              "        border-radius: 50%;\n",
              "        cursor: pointer;\n",
              "        display: none;\n",
              "        fill: #1967D2;\n",
              "        height: 32px;\n",
              "        padding: 0 0 0 0;\n",
              "        width: 32px;\n",
              "      }\n",
              "\n",
              "      .colab-df-generate:hover {\n",
              "        background-color: #E2EBFA;\n",
              "        box-shadow: 0px 1px 2px rgba(60, 64, 67, 0.3), 0px 1px 3px 1px rgba(60, 64, 67, 0.15);\n",
              "        fill: #174EA6;\n",
              "      }\n",
              "\n",
              "      [theme=dark] .colab-df-generate {\n",
              "        background-color: #3B4455;\n",
              "        fill: #D2E3FC;\n",
              "      }\n",
              "\n",
              "      [theme=dark] .colab-df-generate:hover {\n",
              "        background-color: #434B5C;\n",
              "        box-shadow: 0px 1px 3px 1px rgba(0, 0, 0, 0.15);\n",
              "        filter: drop-shadow(0px 1px 2px rgba(0, 0, 0, 0.3));\n",
              "        fill: #FFFFFF;\n",
              "      }\n",
              "    </style>\n",
              "    <button class=\"colab-df-generate\" onclick=\"generateWithVariable('df_classif')\"\n",
              "            title=\"Generate code using this dataframe.\"\n",
              "            style=\"display:none;\">\n",
              "\n",
              "  <svg xmlns=\"http://www.w3.org/2000/svg\" height=\"24px\"viewBox=\"0 0 24 24\"\n",
              "       width=\"24px\">\n",
              "    <path d=\"M7,19H8.4L18.45,9,17,7.55,7,17.6ZM5,21V16.75L18.45,3.32a2,2,0,0,1,2.83,0l1.4,1.43a1.91,1.91,0,0,1,.58,1.4,1.91,1.91,0,0,1-.58,1.4L9.25,21ZM18.45,9,17,7.55Zm-12,3A5.31,5.31,0,0,0,4.9,8.1,5.31,5.31,0,0,0,1,6.5,5.31,5.31,0,0,0,4.9,4.9,5.31,5.31,0,0,0,6.5,1,5.31,5.31,0,0,0,8.1,4.9,5.31,5.31,0,0,0,12,6.5,5.46,5.46,0,0,0,6.5,12Z\"/>\n",
              "  </svg>\n",
              "    </button>\n",
              "    <script>\n",
              "      (() => {\n",
              "      const buttonEl =\n",
              "        document.querySelector('#id_2c30c823-2312-4279-a430-b11e19c0dd6a button.colab-df-generate');\n",
              "      buttonEl.style.display =\n",
              "        google.colab.kernel.accessAllowed ? 'block' : 'none';\n",
              "\n",
              "      buttonEl.onclick = () => {\n",
              "        google.colab.notebook.generateWithVariable('df_classif');\n",
              "      }\n",
              "      })();\n",
              "    </script>\n",
              "  </div>\n",
              "\n",
              "    </div>\n",
              "  </div>\n"
            ],
            "application/vnd.google.colaboratory.intrinsic+json": {
              "type": "dataframe",
              "variable_name": "df_classif",
              "summary": "{\n  \"name\": \"df_classif\",\n  \"rows\": 303,\n  \"fields\": [\n    {\n      \"column\": \"oldpeak\",\n      \"properties\": {\n        \"dtype\": \"number\",\n        \"std\": 0.9577015298200316,\n        \"min\": -0.8968617158532323,\n        \"max\": 2.553920505143966,\n        \"num_unique_values\": 36,\n        \"samples\": [\n          2.381381394094106,\n          -0.0341661606039326,\n          2.2088422830442465\n        ],\n        \"semantic_type\": \"\",\n        \"description\": \"\"\n      }\n    },\n    {\n      \"column\": \"age_heart_rate_reserve\",\n      \"properties\": {\n        \"dtype\": \"number\",\n        \"std\": 0.948506450070817,\n        \"min\": -2.1609314618476474,\n        \"max\": 2.301530553827358,\n        \"num_unique_values\": 294,\n        \"samples\": [\n          -0.0547579996128593,\n          0.2072079772508798,\n          -1.3316912744899303\n        ],\n        \"semantic_type\": \"\",\n        \"description\": \"\"\n      }\n    },\n    {\n      \"column\": \"physical_fitness\",\n      \"properties\": {\n        \"dtype\": \"number\",\n        \"std\": 0.9133835559993606,\n        \"min\": -1.8244410694444733,\n        \"max\": 2.1148571182798563,\n        \"num_unique_values\": 251,\n        \"samples\": [\n          -0.6808819529888792,\n          0.0499987205762015,\n          -0.0089176359068183\n        ],\n        \"semantic_type\": \"\",\n        \"description\": \"\"\n      }\n    },\n    {\n      \"column\": \"sex\",\n      \"properties\": {\n        \"dtype\": \"number\",\n        \"std\": 0,\n        \"min\": 0,\n        \"max\": 1,\n        \"num_unique_values\": 2,\n        \"samples\": [\n          0,\n          1\n        ],\n        \"semantic_type\": \"\",\n        \"description\": \"\"\n      }\n    },\n    {\n      \"column\": \"cp\",\n      \"properties\": {\n        \"dtype\": \"number\",\n        \"std\": 1,\n        \"min\": 0,\n        \"max\": 3,\n        \"num_unique_values\": 4,\n        \"samples\": [\n          2,\n          0\n        ],\n        \"semantic_type\": \"\",\n        \"description\": \"\"\n      }\n    },\n    {\n      \"column\": \"exang\",\n      \"properties\": {\n        \"dtype\": \"number\",\n        \"std\": 0,\n        \"min\": 0,\n        \"max\": 1,\n        \"num_unique_values\": 2,\n        \"samples\": [\n          1,\n          0\n        ],\n        \"semantic_type\": \"\",\n        \"description\": \"\"\n      }\n    },\n    {\n      \"column\": \"slope\",\n      \"properties\": {\n        \"dtype\": \"number\",\n        \"std\": 0,\n        \"min\": 0,\n        \"max\": 2,\n        \"num_unique_values\": 3,\n        \"samples\": [\n          0,\n          2\n        ],\n        \"semantic_type\": \"\",\n        \"description\": \"\"\n      }\n    },\n    {\n      \"column\": \"ca\",\n      \"properties\": {\n        \"dtype\": \"number\",\n        \"std\": 0,\n        \"min\": 0,\n        \"max\": 3,\n        \"num_unique_values\": 4,\n        \"samples\": [\n          2,\n          3\n        ],\n        \"semantic_type\": \"\",\n        \"description\": \"\"\n      }\n    },\n    {\n      \"column\": \"thal\",\n      \"properties\": {\n        \"dtype\": \"number\",\n        \"std\": 0,\n        \"min\": 1,\n        \"max\": 3,\n        \"num_unique_values\": 3,\n        \"samples\": [\n          1,\n          2\n        ],\n        \"semantic_type\": \"\",\n        \"description\": \"\"\n      }\n    },\n    {\n      \"column\": \"target\",\n      \"properties\": {\n        \"dtype\": \"number\",\n        \"std\": 0,\n        \"min\": 0,\n        \"max\": 1,\n        \"num_unique_values\": 2,\n        \"samples\": [\n          0,\n          1\n        ],\n        \"semantic_type\": \"\",\n        \"description\": \"\"\n      }\n    }\n  ]\n}"
            }
          },
          "metadata": {},
          "execution_count": 3
        }
      ]
    },
    {
      "cell_type": "markdown",
      "source": [
        "##Разделение на обучающую и тестовую выборки"
      ],
      "metadata": {
        "id": "TzJMxMUlkV2W"
      }
    },
    {
      "cell_type": "markdown",
      "source": [
        "Разделим данные на обучающую и тестовую выборки в соотношении 80 к 20. Выведем размерности обучающей выборки и исходной таблицы"
      ],
      "metadata": {
        "id": "a6wAHunrd57u"
      }
    },
    {
      "cell_type": "code",
      "source": [
        "X = df_classif.drop('target', axis=1)\n",
        "y = df_classif['target']\n",
        "\n",
        "X_train, X_test, y_train, y_test = train_test_split(X, y, test_size=0.2)\n",
        "X_train.shape, df_classif.shape"
      ],
      "metadata": {
        "colab": {
          "base_uri": "https://localhost:8080/"
        },
        "id": "y1IJiOlg8AWb",
        "outputId": "03a6d998-463c-4250-9a68-beb4405fdac9"
      },
      "execution_count": null,
      "outputs": [
        {
          "output_type": "execute_result",
          "data": {
            "text/plain": [
              "((242, 9), (303, 10))"
            ]
          },
          "metadata": {},
          "execution_count": 4
        }
      ]
    },
    {
      "cell_type": "markdown",
      "source": [
        "#Случайный лес"
      ],
      "metadata": {
        "id": "cOhqGTL4j3kf"
      }
    },
    {
      "cell_type": "markdown",
      "source": [
        "Рассмотрим случайный лес."
      ],
      "metadata": {
        "id": "mbsTv80oeNJb"
      }
    },
    {
      "cell_type": "markdown",
      "source": [
        "##Гиперпараметры и обучение"
      ],
      "metadata": {
        "id": "mF8gI6lLkphy"
      }
    },
    {
      "cell_type": "markdown",
      "source": [
        "Зададим такой набор гиперпараметров:\n",
        "1. `n_estimators` -- количество деревьев в случайном лесу\n",
        "2. `max_depth` -- максимальная глубина каждого дерева (ограничивает количество раз разделения данных)\n",
        "3. `min_samples_leaf` -- минимальное кол-во примеров в каждом листе дерева (если меньше, то дерево остановится)\n",
        "4. `min_samples_split` -- минимальное количество выборок для разделения узла (если меньше, то узел станет листом)\n",
        "5. `max_features` -- максимальное кол-во признаков, которые будут использоваться при каждом разделении дерева\n",
        "\n",
        "Отличие `min_samples_split` от `min_samples_leaf`:\n",
        "например, если `min_samples_split=5` и во внутреннем узле имеется 7 выборок, то разделение разрешено. Но предположим, что в результате разделения получилось два листа: один с 1 образцом, а другой с 6 образцами. Если `min_samples_leaf=2`, то разделение не будет разрешено (даже если внутренний узел имеет 7 выборок), поскольку в одном из полученных листьев будет меньше минимального количества выборок, которое должно быть в листовом узле. `min_samples_leaf` гарантирует минимальное количество выборок в каждом листе, независимо от значения `min_samples_split`.\n",
        "\n",
        "Создадим словарь из этих гиперпараметров, присвоив каждому набор некоторых значений. Воспользуемся `GridSearchCV`, который имплементирует кросс-валидацию, чтобы перебрать все возможные комбинации гиперпараметров и выбрать наилучшую модель в соответствии с заданным способом оценки. Зададим `cv=4` -- данные разделятся на 3 обучающих выборки и 1 тестовую. Оценивать будем по точности -- итоговая оценка считается как среднее по результатам тестов всех фолдов. Обучим множество моделей"
      ],
      "metadata": {
        "id": "PxFYphxoeR54"
      }
    },
    {
      "cell_type": "code",
      "source": [
        "par_rf = {\n",
        "    'n_estimators': [10, 50, 100],\n",
        "    'max_depth': [5, 10, 20, None],\n",
        "    'min_samples_leaf': [1, 2, 5],\n",
        "    'min_samples_split': [2, 5, 10],\n",
        "    'max_features': ['sqrt', 'log2', None]\n",
        "}\n",
        "\n",
        "rf = RandomForestClassifier(random_state=100)\n",
        "rf_grid = GridSearchCV(rf, par_rf, cv=4, scoring='accuracy', n_jobs=-1)\n",
        "rf_grid.fit(X_train, y_train)"
      ],
      "metadata": {
        "id": "p79bObvId5dy",
        "colab": {
          "base_uri": "https://localhost:8080/",
          "height": 164
        },
        "outputId": "39cdc806-5dfc-46a8-9d98-d598a291c3b4"
      },
      "execution_count": null,
      "outputs": [
        {
          "output_type": "execute_result",
          "data": {
            "text/plain": [
              "GridSearchCV(cv=4, estimator=RandomForestClassifier(random_state=100),\n",
              "             n_jobs=-1,\n",
              "             param_grid={'max_depth': [5, 10, 20, None],\n",
              "                         'max_features': ['sqrt', 'log2', None],\n",
              "                         'min_samples_leaf': [1, 2, 5],\n",
              "                         'min_samples_split': [2, 5, 10],\n",
              "                         'n_estimators': [10, 50, 100]},\n",
              "             scoring='accuracy')"
            ],
            "text/html": [
              "<style>#sk-container-id-1 {\n",
              "  /* Definition of color scheme common for light and dark mode */\n",
              "  --sklearn-color-text: #000;\n",
              "  --sklearn-color-text-muted: #666;\n",
              "  --sklearn-color-line: gray;\n",
              "  /* Definition of color scheme for unfitted estimators */\n",
              "  --sklearn-color-unfitted-level-0: #fff5e6;\n",
              "  --sklearn-color-unfitted-level-1: #f6e4d2;\n",
              "  --sklearn-color-unfitted-level-2: #ffe0b3;\n",
              "  --sklearn-color-unfitted-level-3: chocolate;\n",
              "  /* Definition of color scheme for fitted estimators */\n",
              "  --sklearn-color-fitted-level-0: #f0f8ff;\n",
              "  --sklearn-color-fitted-level-1: #d4ebff;\n",
              "  --sklearn-color-fitted-level-2: #b3dbfd;\n",
              "  --sklearn-color-fitted-level-3: cornflowerblue;\n",
              "\n",
              "  /* Specific color for light theme */\n",
              "  --sklearn-color-text-on-default-background: var(--sg-text-color, var(--theme-code-foreground, var(--jp-content-font-color1, black)));\n",
              "  --sklearn-color-background: var(--sg-background-color, var(--theme-background, var(--jp-layout-color0, white)));\n",
              "  --sklearn-color-border-box: var(--sg-text-color, var(--theme-code-foreground, var(--jp-content-font-color1, black)));\n",
              "  --sklearn-color-icon: #696969;\n",
              "\n",
              "  @media (prefers-color-scheme: dark) {\n",
              "    /* Redefinition of color scheme for dark theme */\n",
              "    --sklearn-color-text-on-default-background: var(--sg-text-color, var(--theme-code-foreground, var(--jp-content-font-color1, white)));\n",
              "    --sklearn-color-background: var(--sg-background-color, var(--theme-background, var(--jp-layout-color0, #111)));\n",
              "    --sklearn-color-border-box: var(--sg-text-color, var(--theme-code-foreground, var(--jp-content-font-color1, white)));\n",
              "    --sklearn-color-icon: #878787;\n",
              "  }\n",
              "}\n",
              "\n",
              "#sk-container-id-1 {\n",
              "  color: var(--sklearn-color-text);\n",
              "}\n",
              "\n",
              "#sk-container-id-1 pre {\n",
              "  padding: 0;\n",
              "}\n",
              "\n",
              "#sk-container-id-1 input.sk-hidden--visually {\n",
              "  border: 0;\n",
              "  clip: rect(1px 1px 1px 1px);\n",
              "  clip: rect(1px, 1px, 1px, 1px);\n",
              "  height: 1px;\n",
              "  margin: -1px;\n",
              "  overflow: hidden;\n",
              "  padding: 0;\n",
              "  position: absolute;\n",
              "  width: 1px;\n",
              "}\n",
              "\n",
              "#sk-container-id-1 div.sk-dashed-wrapped {\n",
              "  border: 1px dashed var(--sklearn-color-line);\n",
              "  margin: 0 0.4em 0.5em 0.4em;\n",
              "  box-sizing: border-box;\n",
              "  padding-bottom: 0.4em;\n",
              "  background-color: var(--sklearn-color-background);\n",
              "}\n",
              "\n",
              "#sk-container-id-1 div.sk-container {\n",
              "  /* jupyter's `normalize.less` sets `[hidden] { display: none; }`\n",
              "     but bootstrap.min.css set `[hidden] { display: none !important; }`\n",
              "     so we also need the `!important` here to be able to override the\n",
              "     default hidden behavior on the sphinx rendered scikit-learn.org.\n",
              "     See: https://github.com/scikit-learn/scikit-learn/issues/21755 */\n",
              "  display: inline-block !important;\n",
              "  position: relative;\n",
              "}\n",
              "\n",
              "#sk-container-id-1 div.sk-text-repr-fallback {\n",
              "  display: none;\n",
              "}\n",
              "\n",
              "div.sk-parallel-item,\n",
              "div.sk-serial,\n",
              "div.sk-item {\n",
              "  /* draw centered vertical line to link estimators */\n",
              "  background-image: linear-gradient(var(--sklearn-color-text-on-default-background), var(--sklearn-color-text-on-default-background));\n",
              "  background-size: 2px 100%;\n",
              "  background-repeat: no-repeat;\n",
              "  background-position: center center;\n",
              "}\n",
              "\n",
              "/* Parallel-specific style estimator block */\n",
              "\n",
              "#sk-container-id-1 div.sk-parallel-item::after {\n",
              "  content: \"\";\n",
              "  width: 100%;\n",
              "  border-bottom: 2px solid var(--sklearn-color-text-on-default-background);\n",
              "  flex-grow: 1;\n",
              "}\n",
              "\n",
              "#sk-container-id-1 div.sk-parallel {\n",
              "  display: flex;\n",
              "  align-items: stretch;\n",
              "  justify-content: center;\n",
              "  background-color: var(--sklearn-color-background);\n",
              "  position: relative;\n",
              "}\n",
              "\n",
              "#sk-container-id-1 div.sk-parallel-item {\n",
              "  display: flex;\n",
              "  flex-direction: column;\n",
              "}\n",
              "\n",
              "#sk-container-id-1 div.sk-parallel-item:first-child::after {\n",
              "  align-self: flex-end;\n",
              "  width: 50%;\n",
              "}\n",
              "\n",
              "#sk-container-id-1 div.sk-parallel-item:last-child::after {\n",
              "  align-self: flex-start;\n",
              "  width: 50%;\n",
              "}\n",
              "\n",
              "#sk-container-id-1 div.sk-parallel-item:only-child::after {\n",
              "  width: 0;\n",
              "}\n",
              "\n",
              "/* Serial-specific style estimator block */\n",
              "\n",
              "#sk-container-id-1 div.sk-serial {\n",
              "  display: flex;\n",
              "  flex-direction: column;\n",
              "  align-items: center;\n",
              "  background-color: var(--sklearn-color-background);\n",
              "  padding-right: 1em;\n",
              "  padding-left: 1em;\n",
              "}\n",
              "\n",
              "\n",
              "/* Toggleable style: style used for estimator/Pipeline/ColumnTransformer box that is\n",
              "clickable and can be expanded/collapsed.\n",
              "- Pipeline and ColumnTransformer use this feature and define the default style\n",
              "- Estimators will overwrite some part of the style using the `sk-estimator` class\n",
              "*/\n",
              "\n",
              "/* Pipeline and ColumnTransformer style (default) */\n",
              "\n",
              "#sk-container-id-1 div.sk-toggleable {\n",
              "  /* Default theme specific background. It is overwritten whether we have a\n",
              "  specific estimator or a Pipeline/ColumnTransformer */\n",
              "  background-color: var(--sklearn-color-background);\n",
              "}\n",
              "\n",
              "/* Toggleable label */\n",
              "#sk-container-id-1 label.sk-toggleable__label {\n",
              "  cursor: pointer;\n",
              "  display: flex;\n",
              "  width: 100%;\n",
              "  margin-bottom: 0;\n",
              "  padding: 0.5em;\n",
              "  box-sizing: border-box;\n",
              "  text-align: center;\n",
              "  align-items: start;\n",
              "  justify-content: space-between;\n",
              "  gap: 0.5em;\n",
              "}\n",
              "\n",
              "#sk-container-id-1 label.sk-toggleable__label .caption {\n",
              "  font-size: 0.6rem;\n",
              "  font-weight: lighter;\n",
              "  color: var(--sklearn-color-text-muted);\n",
              "}\n",
              "\n",
              "#sk-container-id-1 label.sk-toggleable__label-arrow:before {\n",
              "  /* Arrow on the left of the label */\n",
              "  content: \"▸\";\n",
              "  float: left;\n",
              "  margin-right: 0.25em;\n",
              "  color: var(--sklearn-color-icon);\n",
              "}\n",
              "\n",
              "#sk-container-id-1 label.sk-toggleable__label-arrow:hover:before {\n",
              "  color: var(--sklearn-color-text);\n",
              "}\n",
              "\n",
              "/* Toggleable content - dropdown */\n",
              "\n",
              "#sk-container-id-1 div.sk-toggleable__content {\n",
              "  max-height: 0;\n",
              "  max-width: 0;\n",
              "  overflow: hidden;\n",
              "  text-align: left;\n",
              "  /* unfitted */\n",
              "  background-color: var(--sklearn-color-unfitted-level-0);\n",
              "}\n",
              "\n",
              "#sk-container-id-1 div.sk-toggleable__content.fitted {\n",
              "  /* fitted */\n",
              "  background-color: var(--sklearn-color-fitted-level-0);\n",
              "}\n",
              "\n",
              "#sk-container-id-1 div.sk-toggleable__content pre {\n",
              "  margin: 0.2em;\n",
              "  border-radius: 0.25em;\n",
              "  color: var(--sklearn-color-text);\n",
              "  /* unfitted */\n",
              "  background-color: var(--sklearn-color-unfitted-level-0);\n",
              "}\n",
              "\n",
              "#sk-container-id-1 div.sk-toggleable__content.fitted pre {\n",
              "  /* unfitted */\n",
              "  background-color: var(--sklearn-color-fitted-level-0);\n",
              "}\n",
              "\n",
              "#sk-container-id-1 input.sk-toggleable__control:checked~div.sk-toggleable__content {\n",
              "  /* Expand drop-down */\n",
              "  max-height: 200px;\n",
              "  max-width: 100%;\n",
              "  overflow: auto;\n",
              "}\n",
              "\n",
              "#sk-container-id-1 input.sk-toggleable__control:checked~label.sk-toggleable__label-arrow:before {\n",
              "  content: \"▾\";\n",
              "}\n",
              "\n",
              "/* Pipeline/ColumnTransformer-specific style */\n",
              "\n",
              "#sk-container-id-1 div.sk-label input.sk-toggleable__control:checked~label.sk-toggleable__label {\n",
              "  color: var(--sklearn-color-text);\n",
              "  background-color: var(--sklearn-color-unfitted-level-2);\n",
              "}\n",
              "\n",
              "#sk-container-id-1 div.sk-label.fitted input.sk-toggleable__control:checked~label.sk-toggleable__label {\n",
              "  background-color: var(--sklearn-color-fitted-level-2);\n",
              "}\n",
              "\n",
              "/* Estimator-specific style */\n",
              "\n",
              "/* Colorize estimator box */\n",
              "#sk-container-id-1 div.sk-estimator input.sk-toggleable__control:checked~label.sk-toggleable__label {\n",
              "  /* unfitted */\n",
              "  background-color: var(--sklearn-color-unfitted-level-2);\n",
              "}\n",
              "\n",
              "#sk-container-id-1 div.sk-estimator.fitted input.sk-toggleable__control:checked~label.sk-toggleable__label {\n",
              "  /* fitted */\n",
              "  background-color: var(--sklearn-color-fitted-level-2);\n",
              "}\n",
              "\n",
              "#sk-container-id-1 div.sk-label label.sk-toggleable__label,\n",
              "#sk-container-id-1 div.sk-label label {\n",
              "  /* The background is the default theme color */\n",
              "  color: var(--sklearn-color-text-on-default-background);\n",
              "}\n",
              "\n",
              "/* On hover, darken the color of the background */\n",
              "#sk-container-id-1 div.sk-label:hover label.sk-toggleable__label {\n",
              "  color: var(--sklearn-color-text);\n",
              "  background-color: var(--sklearn-color-unfitted-level-2);\n",
              "}\n",
              "\n",
              "/* Label box, darken color on hover, fitted */\n",
              "#sk-container-id-1 div.sk-label.fitted:hover label.sk-toggleable__label.fitted {\n",
              "  color: var(--sklearn-color-text);\n",
              "  background-color: var(--sklearn-color-fitted-level-2);\n",
              "}\n",
              "\n",
              "/* Estimator label */\n",
              "\n",
              "#sk-container-id-1 div.sk-label label {\n",
              "  font-family: monospace;\n",
              "  font-weight: bold;\n",
              "  display: inline-block;\n",
              "  line-height: 1.2em;\n",
              "}\n",
              "\n",
              "#sk-container-id-1 div.sk-label-container {\n",
              "  text-align: center;\n",
              "}\n",
              "\n",
              "/* Estimator-specific */\n",
              "#sk-container-id-1 div.sk-estimator {\n",
              "  font-family: monospace;\n",
              "  border: 1px dotted var(--sklearn-color-border-box);\n",
              "  border-radius: 0.25em;\n",
              "  box-sizing: border-box;\n",
              "  margin-bottom: 0.5em;\n",
              "  /* unfitted */\n",
              "  background-color: var(--sklearn-color-unfitted-level-0);\n",
              "}\n",
              "\n",
              "#sk-container-id-1 div.sk-estimator.fitted {\n",
              "  /* fitted */\n",
              "  background-color: var(--sklearn-color-fitted-level-0);\n",
              "}\n",
              "\n",
              "/* on hover */\n",
              "#sk-container-id-1 div.sk-estimator:hover {\n",
              "  /* unfitted */\n",
              "  background-color: var(--sklearn-color-unfitted-level-2);\n",
              "}\n",
              "\n",
              "#sk-container-id-1 div.sk-estimator.fitted:hover {\n",
              "  /* fitted */\n",
              "  background-color: var(--sklearn-color-fitted-level-2);\n",
              "}\n",
              "\n",
              "/* Specification for estimator info (e.g. \"i\" and \"?\") */\n",
              "\n",
              "/* Common style for \"i\" and \"?\" */\n",
              "\n",
              ".sk-estimator-doc-link,\n",
              "a:link.sk-estimator-doc-link,\n",
              "a:visited.sk-estimator-doc-link {\n",
              "  float: right;\n",
              "  font-size: smaller;\n",
              "  line-height: 1em;\n",
              "  font-family: monospace;\n",
              "  background-color: var(--sklearn-color-background);\n",
              "  border-radius: 1em;\n",
              "  height: 1em;\n",
              "  width: 1em;\n",
              "  text-decoration: none !important;\n",
              "  margin-left: 0.5em;\n",
              "  text-align: center;\n",
              "  /* unfitted */\n",
              "  border: var(--sklearn-color-unfitted-level-1) 1pt solid;\n",
              "  color: var(--sklearn-color-unfitted-level-1);\n",
              "}\n",
              "\n",
              ".sk-estimator-doc-link.fitted,\n",
              "a:link.sk-estimator-doc-link.fitted,\n",
              "a:visited.sk-estimator-doc-link.fitted {\n",
              "  /* fitted */\n",
              "  border: var(--sklearn-color-fitted-level-1) 1pt solid;\n",
              "  color: var(--sklearn-color-fitted-level-1);\n",
              "}\n",
              "\n",
              "/* On hover */\n",
              "div.sk-estimator:hover .sk-estimator-doc-link:hover,\n",
              ".sk-estimator-doc-link:hover,\n",
              "div.sk-label-container:hover .sk-estimator-doc-link:hover,\n",
              ".sk-estimator-doc-link:hover {\n",
              "  /* unfitted */\n",
              "  background-color: var(--sklearn-color-unfitted-level-3);\n",
              "  color: var(--sklearn-color-background);\n",
              "  text-decoration: none;\n",
              "}\n",
              "\n",
              "div.sk-estimator.fitted:hover .sk-estimator-doc-link.fitted:hover,\n",
              ".sk-estimator-doc-link.fitted:hover,\n",
              "div.sk-label-container:hover .sk-estimator-doc-link.fitted:hover,\n",
              ".sk-estimator-doc-link.fitted:hover {\n",
              "  /* fitted */\n",
              "  background-color: var(--sklearn-color-fitted-level-3);\n",
              "  color: var(--sklearn-color-background);\n",
              "  text-decoration: none;\n",
              "}\n",
              "\n",
              "/* Span, style for the box shown on hovering the info icon */\n",
              ".sk-estimator-doc-link span {\n",
              "  display: none;\n",
              "  z-index: 9999;\n",
              "  position: relative;\n",
              "  font-weight: normal;\n",
              "  right: .2ex;\n",
              "  padding: .5ex;\n",
              "  margin: .5ex;\n",
              "  width: min-content;\n",
              "  min-width: 20ex;\n",
              "  max-width: 50ex;\n",
              "  color: var(--sklearn-color-text);\n",
              "  box-shadow: 2pt 2pt 4pt #999;\n",
              "  /* unfitted */\n",
              "  background: var(--sklearn-color-unfitted-level-0);\n",
              "  border: .5pt solid var(--sklearn-color-unfitted-level-3);\n",
              "}\n",
              "\n",
              ".sk-estimator-doc-link.fitted span {\n",
              "  /* fitted */\n",
              "  background: var(--sklearn-color-fitted-level-0);\n",
              "  border: var(--sklearn-color-fitted-level-3);\n",
              "}\n",
              "\n",
              ".sk-estimator-doc-link:hover span {\n",
              "  display: block;\n",
              "}\n",
              "\n",
              "/* \"?\"-specific style due to the `<a>` HTML tag */\n",
              "\n",
              "#sk-container-id-1 a.estimator_doc_link {\n",
              "  float: right;\n",
              "  font-size: 1rem;\n",
              "  line-height: 1em;\n",
              "  font-family: monospace;\n",
              "  background-color: var(--sklearn-color-background);\n",
              "  border-radius: 1rem;\n",
              "  height: 1rem;\n",
              "  width: 1rem;\n",
              "  text-decoration: none;\n",
              "  /* unfitted */\n",
              "  color: var(--sklearn-color-unfitted-level-1);\n",
              "  border: var(--sklearn-color-unfitted-level-1) 1pt solid;\n",
              "}\n",
              "\n",
              "#sk-container-id-1 a.estimator_doc_link.fitted {\n",
              "  /* fitted */\n",
              "  border: var(--sklearn-color-fitted-level-1) 1pt solid;\n",
              "  color: var(--sklearn-color-fitted-level-1);\n",
              "}\n",
              "\n",
              "/* On hover */\n",
              "#sk-container-id-1 a.estimator_doc_link:hover {\n",
              "  /* unfitted */\n",
              "  background-color: var(--sklearn-color-unfitted-level-3);\n",
              "  color: var(--sklearn-color-background);\n",
              "  text-decoration: none;\n",
              "}\n",
              "\n",
              "#sk-container-id-1 a.estimator_doc_link.fitted:hover {\n",
              "  /* fitted */\n",
              "  background-color: var(--sklearn-color-fitted-level-3);\n",
              "}\n",
              "</style><div id=\"sk-container-id-1\" class=\"sk-top-container\"><div class=\"sk-text-repr-fallback\"><pre>GridSearchCV(cv=4, estimator=RandomForestClassifier(random_state=100),\n",
              "             n_jobs=-1,\n",
              "             param_grid={&#x27;max_depth&#x27;: [5, 10, 20, None],\n",
              "                         &#x27;max_features&#x27;: [&#x27;sqrt&#x27;, &#x27;log2&#x27;, None],\n",
              "                         &#x27;min_samples_leaf&#x27;: [1, 2, 5],\n",
              "                         &#x27;min_samples_split&#x27;: [2, 5, 10],\n",
              "                         &#x27;n_estimators&#x27;: [10, 50, 100]},\n",
              "             scoring=&#x27;accuracy&#x27;)</pre><b>In a Jupyter environment, please rerun this cell to show the HTML representation or trust the notebook. <br />On GitHub, the HTML representation is unable to render, please try loading this page with nbviewer.org.</b></div><div class=\"sk-container\" hidden><div class=\"sk-item sk-dashed-wrapped\"><div class=\"sk-label-container\"><div class=\"sk-label fitted sk-toggleable\"><input class=\"sk-toggleable__control sk-hidden--visually\" id=\"sk-estimator-id-1\" type=\"checkbox\" ><label for=\"sk-estimator-id-1\" class=\"sk-toggleable__label fitted sk-toggleable__label-arrow\"><div><div>GridSearchCV</div></div><div><a class=\"sk-estimator-doc-link fitted\" rel=\"noreferrer\" target=\"_blank\" href=\"https://scikit-learn.org/1.6/modules/generated/sklearn.model_selection.GridSearchCV.html\">?<span>Documentation for GridSearchCV</span></a><span class=\"sk-estimator-doc-link fitted\">i<span>Fitted</span></span></div></label><div class=\"sk-toggleable__content fitted\"><pre>GridSearchCV(cv=4, estimator=RandomForestClassifier(random_state=100),\n",
              "             n_jobs=-1,\n",
              "             param_grid={&#x27;max_depth&#x27;: [5, 10, 20, None],\n",
              "                         &#x27;max_features&#x27;: [&#x27;sqrt&#x27;, &#x27;log2&#x27;, None],\n",
              "                         &#x27;min_samples_leaf&#x27;: [1, 2, 5],\n",
              "                         &#x27;min_samples_split&#x27;: [2, 5, 10],\n",
              "                         &#x27;n_estimators&#x27;: [10, 50, 100]},\n",
              "             scoring=&#x27;accuracy&#x27;)</pre></div> </div></div><div class=\"sk-parallel\"><div class=\"sk-parallel-item\"><div class=\"sk-item\"><div class=\"sk-label-container\"><div class=\"sk-label fitted sk-toggleable\"><input class=\"sk-toggleable__control sk-hidden--visually\" id=\"sk-estimator-id-2\" type=\"checkbox\" ><label for=\"sk-estimator-id-2\" class=\"sk-toggleable__label fitted sk-toggleable__label-arrow\"><div><div>best_estimator_: RandomForestClassifier</div></div></label><div class=\"sk-toggleable__content fitted\"><pre>RandomForestClassifier(max_depth=5, min_samples_leaf=2, min_samples_split=10,\n",
              "                       n_estimators=10, random_state=100)</pre></div> </div></div><div class=\"sk-serial\"><div class=\"sk-item\"><div class=\"sk-estimator fitted sk-toggleable\"><input class=\"sk-toggleable__control sk-hidden--visually\" id=\"sk-estimator-id-3\" type=\"checkbox\" ><label for=\"sk-estimator-id-3\" class=\"sk-toggleable__label fitted sk-toggleable__label-arrow\"><div><div>RandomForestClassifier</div></div><div><a class=\"sk-estimator-doc-link fitted\" rel=\"noreferrer\" target=\"_blank\" href=\"https://scikit-learn.org/1.6/modules/generated/sklearn.ensemble.RandomForestClassifier.html\">?<span>Documentation for RandomForestClassifier</span></a></div></label><div class=\"sk-toggleable__content fitted\"><pre>RandomForestClassifier(max_depth=5, min_samples_leaf=2, min_samples_split=10,\n",
              "                       n_estimators=10, random_state=100)</pre></div> </div></div></div></div></div></div></div></div></div>"
            ]
          },
          "metadata": {},
          "execution_count": 5
        }
      ]
    },
    {
      "cell_type": "markdown",
      "source": [
        "##Результат с наивысшей оценкой"
      ],
      "metadata": {
        "id": "3xML6TIEkvy3"
      }
    },
    {
      "cell_type": "markdown",
      "source": [
        "Выведем параметры модели с лучшим результатом согласно нашему способу оценки и среднее точности по всем фолдам"
      ],
      "metadata": {
        "id": "TB8lkaskilu_"
      }
    },
    {
      "cell_type": "code",
      "source": [
        "print(f\"Highest score {type(rf).__name__} parameters: {rf_grid.best_params_}\")\n",
        "print(f\"Highest accuracy on all folds: {rf_grid.best_score_:.2f}\")"
      ],
      "metadata": {
        "colab": {
          "base_uri": "https://localhost:8080/"
        },
        "id": "gpQtD6IitVUS",
        "outputId": "bf5521a1-9b2d-4cd1-94f1-df1ef32c49f1"
      },
      "execution_count": null,
      "outputs": [
        {
          "output_type": "stream",
          "name": "stdout",
          "text": [
            "Highest score RandomForestClassifier parameters: {'max_depth': 5, 'max_features': 'sqrt', 'min_samples_leaf': 2, 'min_samples_split': 10, 'n_estimators': 10}\n",
            "Highest accuracy on all folds: 0.83\n"
          ]
        }
      ]
    },
    {
      "cell_type": "markdown",
      "source": [
        "Результат от запуска к запуску меняется. Высокая точность на фолдах не гарантирует высокой точности на тестовой выборке, аналогично с низкой точностью."
      ],
      "metadata": {
        "id": "W3XIFa5bkDUK"
      }
    },
    {
      "cell_type": "markdown",
      "source": [
        "##Сравнение моделей"
      ],
      "metadata": {
        "id": "qYwC57vEk15K"
      }
    },
    {
      "cell_type": "markdown",
      "source": [
        "Сравнивать будем три модели из множества `grid`: с наивысшей, медианной и наименьшей оценками. Описание методов:\n",
        "1. `get_highest_score_params` -- возвращает кортеж, где лучшей оценке соответствует лучший набор параметров\n",
        "2. `get_median_score_params` -- считает медиану всех оценок и ищет параметры модели, оценка которых наиболее близка к медиане. Возвращает кортеж с медианной оценкой и соответствующими параметрами\n",
        "3. `get_lowest_score_params` -- находит параметры модели с минимальной оценкой качества. Возвращает кортеж с наименьшей оценкой и соответствующими параметрами"
      ],
      "metadata": {
        "id": "niDOJgIRqa2a"
      }
    },
    {
      "cell_type": "code",
      "source": [
        "def get_highest_score_params(grid_search):\n",
        "  return (grid_search.best_score_, grid_search.best_params_)\n",
        "\n",
        "\n",
        "def get_median_score_params(grid_search, scoring='mean_test_score'):\n",
        "    scores = grid_search.cv_results_[scoring]\n",
        "    median_score = np.median(scores)\n",
        "\n",
        "    closest_index = np.abs(scores - median_score).argmin()\n",
        "    median_score_params = grid_search.cv_results_['params'][closest_index]\n",
        "    median_score = scores[closest_index]\n",
        "    return (median_score, median_score_params)\n",
        "\n",
        "\n",
        "def get_lowest_score_params(grid_search, scoring='mean_test_score'):\n",
        "  lowest_score_index = grid_search.cv_results_[scoring].argmin()\n",
        "  lowest_score_params = grid_search.cv_results_['params'][lowest_score_index]\n",
        "  lowest_score = grid_search.cv_results_[scoring][lowest_score_index]\n",
        "  return (lowest_score, lowest_score_params)"
      ],
      "metadata": {
        "id": "6kY7j3bfSlT5"
      },
      "execution_count": null,
      "outputs": []
    },
    {
      "cell_type": "markdown",
      "source": [
        "Воспользуемся методами, чтобы отобрать 3 набора параметров для сравнения моделей. Выведем оценку и гиперпараметры для каждой пары \"точность-параметры\""
      ],
      "metadata": {
        "id": "nMZ1GWS-0QqD"
      }
    },
    {
      "cell_type": "code",
      "source": [
        "highest_rf_score_params = get_highest_score_params(rf_grid)\n",
        "median_rf_score_params = get_median_score_params(rf_grid)\n",
        "lowest_rf_score_params = get_lowest_score_params(rf_grid)\n",
        "sorted_rf_params_for_comparison = [highest_rf_score_params[1],\n",
        "                                   median_rf_score_params[1],\n",
        "                                   lowest_rf_score_params[1]]\n",
        "print(f\"Highest score: {highest_rf_score_params[0]:.2f}\")\n",
        "print(f\"Median score: {median_rf_score_params[0]:.2f}\")\n",
        "print(f\"Lowest score: {lowest_rf_score_params[0]:.2f}\")\n",
        "sorted_rf_params_for_comparison"
      ],
      "metadata": {
        "colab": {
          "base_uri": "https://localhost:8080/"
        },
        "id": "bS_ch9bOHg_z",
        "outputId": "d6094bfe-ea11-4017-cbe2-80c13dd6aae5"
      },
      "execution_count": null,
      "outputs": [
        {
          "output_type": "stream",
          "name": "stdout",
          "text": [
            "Highest score: 0.83\n",
            "Median score: 0.80\n",
            "Lowest score: 0.77\n"
          ]
        },
        {
          "output_type": "execute_result",
          "data": {
            "text/plain": [
              "[{'max_depth': 5,\n",
              "  'max_features': 'sqrt',\n",
              "  'min_samples_leaf': 2,\n",
              "  'min_samples_split': 10,\n",
              "  'n_estimators': 10},\n",
              " {'max_depth': 5,\n",
              "  'max_features': None,\n",
              "  'min_samples_leaf': 5,\n",
              "  'min_samples_split': 2,\n",
              "  'n_estimators': 10},\n",
              " {'max_depth': 10,\n",
              "  'max_features': None,\n",
              "  'min_samples_leaf': 1,\n",
              "  'min_samples_split': 2,\n",
              "  'n_estimators': 100}]"
            ]
          },
          "metadata": {},
          "execution_count": 8
        }
      ]
    },
    {
      "cell_type": "markdown",
      "source": [
        "Точность достаточно стабильна для всех моделей, так как разница между максимумом и минимумом небольшая и медиана посередине."
      ],
      "metadata": {
        "id": "67Lg3BJ_05wd"
      }
    },
    {
      "cell_type": "markdown",
      "source": [
        "Напишем методы для удобной работы с несколькими моделями. Описание методов:\n",
        "1. `get_trained_classif_models` -- обучает переданное количество моделей классификации на обучающем наборе данных. Возвращает список обученных моделей\n",
        "2. `get_preds_classif_models` -- использует переданные в метод модели классификации для предсказания меток на тестовом наборе данных. Возвращает список предсказаний\n",
        "3. `get_evals_classif_models` -- для предсказания каждой модели классификации считает `classification_report`, сравнивая с истинными метками. Возвращает список отчетов"
      ],
      "metadata": {
        "id": "rMnxSabI1FgO"
      }
    },
    {
      "cell_type": "code",
      "source": [
        "def get_trained_classif_models(classif_models, X_train, y_train):\n",
        "  trained_models = []\n",
        "  for model in classif_models:\n",
        "    trained_model = model.fit(X_train, y_train)\n",
        "    trained_models.append(trained_model)\n",
        "  return trained_models\n",
        "\n",
        "\n",
        "def get_preds_classif_models(classif_models, X_test):\n",
        "  y_preds = []\n",
        "  for model in classif_models:\n",
        "    y_pred = model.predict(X_test)\n",
        "    y_preds.append(y_pred)\n",
        "  return y_preds\n",
        "\n",
        "\n",
        "def get_evals_classif_models(y_preds, y_test):\n",
        "    reports = []\n",
        "    for y_pred in y_preds:\n",
        "        report = classification_report(y_test, y_pred)\n",
        "        reports.append(report)\n",
        "    return reports"
      ],
      "metadata": {
        "id": "2-X-kDT0fsx0"
      },
      "execution_count": null,
      "outputs": []
    },
    {
      "cell_type": "markdown",
      "source": [
        "Берем из списка кортежей с тремя парами \"оценка-параметры\" каждую и создаем модели по параметрам. Модели сохраним в список на обучение. Обучаем, используя написанный нами метод `get_trained_classif_models`. Выведем обученные модели со своими гиперпараметрами"
      ],
      "metadata": {
        "id": "aWxWaIlV2O_C"
      }
    },
    {
      "cell_type": "code",
      "source": [
        "rs = 100\n",
        "highest_score_rf_model = RandomForestClassifier(\n",
        "    **sorted_rf_params_for_comparison[0], random_state=rs\n",
        ")\n",
        "median_score_rf_model = RandomForestClassifier(\n",
        "    **sorted_rf_params_for_comparison[1], random_state=rs\n",
        ")\n",
        "lowest_score_rf_model = RandomForestClassifier(\n",
        "    **sorted_rf_params_for_comparison[2], random_state=rs\n",
        ")\n",
        "\n",
        "rf_models_to_train = [highest_score_rf_model, median_score_rf_model,\n",
        "                      lowest_score_rf_model]\n",
        "trained_rf_models = get_trained_classif_models(rf_models_to_train, X_train,\n",
        "                                               y_train)\n",
        "trained_rf_models"
      ],
      "metadata": {
        "colab": {
          "base_uri": "https://localhost:8080/"
        },
        "id": "Y8ntIiN3CIbp",
        "outputId": "1174b099-5436-4bba-af9f-6f462e2a3691"
      },
      "execution_count": null,
      "outputs": [
        {
          "output_type": "execute_result",
          "data": {
            "text/plain": [
              "[RandomForestClassifier(max_depth=5, min_samples_leaf=2, min_samples_split=10,\n",
              "                        n_estimators=10, random_state=100),\n",
              " RandomForestClassifier(max_depth=5, max_features=None, min_samples_leaf=5,\n",
              "                        n_estimators=10, random_state=100),\n",
              " RandomForestClassifier(max_depth=10, max_features=None, random_state=100)]"
            ]
          },
          "metadata": {},
          "execution_count": 10
        }
      ]
    },
    {
      "cell_type": "markdown",
      "source": [
        "Используем модели для предсказания меток. Выведем результаты"
      ],
      "metadata": {
        "id": "5Kv-vVk62zwP"
      }
    },
    {
      "cell_type": "code",
      "source": [
        "rf_y_preds = get_preds_classif_models(trained_rf_models, X_test)\n",
        "rf_y_preds"
      ],
      "metadata": {
        "colab": {
          "base_uri": "https://localhost:8080/"
        },
        "id": "ltWxFzl5EUbV",
        "outputId": "850dd583-d881-473e-d210-e21f73a94ffc"
      },
      "execution_count": null,
      "outputs": [
        {
          "output_type": "execute_result",
          "data": {
            "text/plain": [
              "[array([0, 1, 1, 0, 1, 1, 1, 0, 1, 0, 0, 1, 1, 1, 0, 0, 1, 0, 0, 0, 1, 1,\n",
              "        0, 0, 1, 1, 1, 0, 1, 1, 0, 1, 1, 0, 0, 1, 1, 0, 1, 1, 0, 0, 1, 1,\n",
              "        1, 0, 1, 0, 0, 1, 1, 0, 1, 1, 0, 1, 0, 1, 1, 0, 1]),\n",
              " array([0, 1, 1, 0, 1, 1, 1, 0, 1, 0, 0, 1, 1, 1, 0, 0, 1, 1, 0, 1, 1, 0,\n",
              "        0, 1, 1, 1, 0, 0, 1, 1, 1, 1, 1, 0, 0, 1, 0, 0, 1, 1, 0, 0, 1, 1,\n",
              "        1, 0, 1, 0, 0, 1, 1, 0, 1, 1, 0, 1, 0, 1, 1, 0, 1]),\n",
              " array([0, 1, 1, 0, 1, 1, 1, 0, 1, 0, 0, 1, 1, 1, 0, 0, 1, 0, 0, 0, 1, 1,\n",
              "        0, 0, 1, 1, 1, 0, 1, 1, 1, 1, 1, 0, 0, 1, 1, 0, 1, 1, 0, 0, 1, 1,\n",
              "        1, 0, 1, 0, 0, 1, 1, 0, 1, 1, 0, 1, 0, 1, 1, 0, 1])]"
            ]
          },
          "metadata": {},
          "execution_count": 11
        }
      ]
    },
    {
      "cell_type": "markdown",
      "source": [
        "Сравним модели с помощью `classification_report`. Воспользуемся нашим методом `get_evals_classif_models`, после чего выведем результат для каждой модели"
      ],
      "metadata": {
        "id": "WUiHUqsg3IOD"
      }
    },
    {
      "cell_type": "code",
      "source": [
        "rf_reports = get_evals_classif_models(rf_y_preds, y_test)\n",
        "titles = [\"Highest score model\", \"Median score model\", \"Lowest score model\"]\n",
        "print(f\"{type(rf).__name__} models comparison on test data:\")\n",
        "print(\"-\" * 53)\n",
        "for i in range(len(rf_reports)):\n",
        "    print(f\"{titles[i]}: {sorted_rf_params_for_comparison[i]}:\")\n",
        "    print(\"-\" * 53)\n",
        "    print(rf_reports[i])\n",
        "    print(\"-\" * 53)"
      ],
      "metadata": {
        "colab": {
          "base_uri": "https://localhost:8080/"
        },
        "id": "9NcFDnXIHsc8",
        "outputId": "a464c515-2cf7-4569-ba99-9311beb59633"
      },
      "execution_count": null,
      "outputs": [
        {
          "output_type": "stream",
          "name": "stdout",
          "text": [
            "RandomForestClassifier models comparison on test data:\n",
            "-----------------------------------------------------\n",
            "Highest score model: {'max_depth': 5, 'max_features': 'sqrt', 'min_samples_leaf': 2, 'min_samples_split': 10, 'n_estimators': 10}:\n",
            "-----------------------------------------------------\n",
            "              precision    recall  f1-score   support\n",
            "\n",
            "           0       0.85      0.85      0.85        26\n",
            "           1       0.89      0.89      0.89        35\n",
            "\n",
            "    accuracy                           0.87        61\n",
            "   macro avg       0.87      0.87      0.87        61\n",
            "weighted avg       0.87      0.87      0.87        61\n",
            "\n",
            "-----------------------------------------------------\n",
            "Median score model: {'max_depth': 5, 'max_features': None, 'min_samples_leaf': 5, 'min_samples_split': 2, 'n_estimators': 10}:\n",
            "-----------------------------------------------------\n",
            "              precision    recall  f1-score   support\n",
            "\n",
            "           0       0.84      0.81      0.82        26\n",
            "           1       0.86      0.89      0.87        35\n",
            "\n",
            "    accuracy                           0.85        61\n",
            "   macro avg       0.85      0.85      0.85        61\n",
            "weighted avg       0.85      0.85      0.85        61\n",
            "\n",
            "-----------------------------------------------------\n",
            "Lowest score model: {'max_depth': 10, 'max_features': None, 'min_samples_leaf': 1, 'min_samples_split': 2, 'n_estimators': 100}:\n",
            "-----------------------------------------------------\n",
            "              precision    recall  f1-score   support\n",
            "\n",
            "           0       0.88      0.85      0.86        26\n",
            "           1       0.89      0.91      0.90        35\n",
            "\n",
            "    accuracy                           0.89        61\n",
            "   macro avg       0.88      0.88      0.88        61\n",
            "weighted avg       0.89      0.89      0.88        61\n",
            "\n",
            "-----------------------------------------------------\n"
          ]
        }
      ]
    },
    {
      "cell_type": "markdown",
      "source": [
        "Обозначим модель 1 -- модель с наивысшей точностью на обучающей выборке, модель 2 -- с медианной точностью на обучающей выборке, модель 3 -- с наименьшей точностью на обучающей выборке.\n",
        "\n",
        "Как видим, модель 3 имеет на тестовой выборке бóльшую точность, чем модели 1 и 2. Это может быть результатом случайности. Возможно модель 1 будет более стабильной, так как показала выше точность на бóльшем количестве данных при обучении.\n",
        "\n",
        "Тем не менее, исследуем полученные результаты.\n",
        "\n",
        "Модель 3 при бóльшем количестве деревьев, их бóльшей глубине и, меньшем нижнем ограничении на кол-во примеров в каждом листе дерева, показала на 4% лучше результат по сравнению с моделью 2. У этой модели больше \"пространства\" по сравнению с другими. Возможно остальные модели слегка недообучились из-за ограничений (а при `GridSearch` из-за разбиения обучающей выборки на `cv=a-1` выборок их точность была выше). С другой стороны, низкая точность этой модели на обучающей выборке может говорить как-раз о ее переобучении. Способность модели обнаруживать классы (`recall`) и отличать их друг от друга (`precision`) немного улучшилась по сравнению с моделью 2. Так как `f1`-мера является средним гармоническим точности и полноты, то она тоже увеличилась для каждого класса. Далее будем называть эти результаты метриками.\n",
        "\n",
        "Модель 1 имеет более хорошие метрики, чем модель 2. Наблюдаем баланс между `precision` и `recall`. Возможно это потому, что нижнее ограничение на кол-во примеров в каждом листе дерева так же как и в модели 3 меньше. При этом модель использует лишь квадратный корень из общего числа признаков для поиска оптимального разбиения на каждом узле. Скорее всего это один из тех параметров, благодаря которому точность этой модели на обучающей выборке наибольшая."
      ],
      "metadata": {
        "id": "m2BTWjKQH7-r"
      }
    },
    {
      "cell_type": "markdown",
      "source": [
        "Для визуализации построим графики ROC-кривых (рабочая характеристика приёмника) и precision-recall-кривых (точность-полнота). Также на каждом графике выведем посчитанные AUC (площадь под кривой). Описание методов:\n",
        "1. `roc_curve_plot` -- для каждой модели классификации считает ROC-кривую по предсказанным вероятностям принадлежности к положительному классу (1) и тестовым меткам. Считает AUC по ложноположительному (FPR) и истинноположительному (TPR) показателям. Строит кривую с подписанным AUC и возвращает `plot`. Используется для визуализации способности модели различать положительный и отрицательный классы при различных порогах вероятностей (порог классификации -- значение, выше которого модель относит объект к положительному классу), использованных для вычисления FPR и TPR.\n",
        "2. `precision_recall_plot` -- для каждой модели классификации считает precision-recall-кривую по предсказанным вероятностям принадлежности к положительному классу (1) и тестовым меткам. Строит кривую с подписанным AUC и возвращает `plot`. Используется для визуализации измененения точности и полноты при изменении порога классификации."
      ],
      "metadata": {
        "id": "5XbwepbNDZpl"
      }
    },
    {
      "cell_type": "code",
      "source": [
        "def roc_curve_plot(models, X_test, y_test, titles):\n",
        "  plt.figure(figsize=(12, 4))\n",
        "  i = 0\n",
        "  for model in models:\n",
        "    fpr, tpr, _ = roc_curve(y_test, model.predict_proba(X_test)[:, 1])\n",
        "    roc_auc = auc(fpr, tpr)\n",
        "\n",
        "    plt.subplot(1, len(models), i + 1)\n",
        "    plt.plot(fpr, tpr, lw=2, label=f'ROC curve (area = {roc_auc:.2f})')\n",
        "    plt.plot([0, 1], [0, 1], color='gray', linestyle='--')\n",
        "    plt.title(titles[i])\n",
        "    plt.xlabel('False positive rate')\n",
        "    plt.ylabel('True positive rate')\n",
        "    plt.legend(loc='lower right')\n",
        "    plt.grid()\n",
        "\n",
        "    i += 1\n",
        "  plt.suptitle('Receiver operating characteristic curve')\n",
        "  plt.tight_layout()\n",
        "  return plt\n",
        "\n",
        "\n",
        "def precision_recall_plot(models, X_test, y_test, titles):\n",
        "  plt.figure(figsize=(12, 4))\n",
        "  i = 0\n",
        "  for model in models:\n",
        "    precision, recall, _ = precision_recall_curve(y_test,\n",
        "                                                  model\\\n",
        "                                                  .predict_proba(X_test)[:, 1])\n",
        "\n",
        "    plt.subplot(1, len(models), i + 1)\n",
        "    plt.plot(recall, precision, label=f\"AUC = {auc(recall, precision):.2f}\")\n",
        "    plt.title(titles[i])\n",
        "    plt.xlabel('Recall')\n",
        "    plt.ylabel('Precision')\n",
        "    plt.legend(loc='lower left')\n",
        "    plt.grid()\n",
        "\n",
        "    i += 1\n",
        "\n",
        "  plt.suptitle('Precision-recall curve')\n",
        "  plt.tight_layout()\n",
        "  return plt"
      ],
      "metadata": {
        "id": "SBe54yV7twmJ"
      },
      "execution_count": null,
      "outputs": []
    },
    {
      "cell_type": "markdown",
      "source": [
        "Построим график ROC-кривой для каждой модели классификации, используя наш метод `roc_curve_plot`. Покажем рисунок"
      ],
      "metadata": {
        "id": "z7UbohC9LAeo"
      }
    },
    {
      "cell_type": "code",
      "source": [
        "titles = [\"Highest score model\", \"Median score model\", \"Lowest score model\"]\n",
        "roc_curve_plot(trained_rf_models, X_test, y_test, titles)\n",
        "plt.show()"
      ],
      "metadata": {
        "colab": {
          "base_uri": "https://localhost:8080/",
          "height": 413
        },
        "id": "n2n5d_nmqJ47",
        "outputId": "1319c629-3631-4e20-aa97-4d301b7ced33"
      },
      "execution_count": null,
      "outputs": [
        {
          "output_type": "display_data",
          "data": {
            "text/plain": [
              "<Figure size 1200x400 with 3 Axes>"
            ],
            "image/png": "[encoded data removed]"
          },
          "metadata": {}
        }
      ]
    },
    {
      "cell_type": "markdown",
      "source": [
        "Чем выше ломаная от прямой, тем лучше у модели различительная способность между положительными и отрицательными классами. Похоже, что лучше всего результат у модели 1, однако все модели справились примерно одинаково хорошо, так как площади под графиками близки к 1."
      ],
      "metadata": {
        "id": "OrtF25MeLY19"
      }
    },
    {
      "cell_type": "markdown",
      "source": [
        "Построим график precision-recall-кривой для каждой модели классификации, используя наш метод `precision_recall_plot`. Покажем рисунок"
      ],
      "metadata": {
        "id": "3-ZGgTh7Ld-a"
      }
    },
    {
      "cell_type": "code",
      "source": [
        "titles = [\"Highest score model\", \"Median score model\", \"Lowest score model\"]\n",
        "precision_recall_plot(trained_rf_models, X_test, y_test, titles)\n",
        "plt.show()"
      ],
      "metadata": {
        "colab": {
          "base_uri": "https://localhost:8080/",
          "height": 413
        },
        "id": "GElpyOEXqW6Z",
        "outputId": "72d1fb26-a02b-479b-9883-4e807e247c0a"
      },
      "execution_count": null,
      "outputs": [
        {
          "output_type": "display_data",
          "data": {
            "text/plain": [
              "<Figure size 1200x400 with 3 Axes>"
            ],
            "image/png": "[encoded data removed]"
          },
          "metadata": {}
        }
      ]
    },
    {
      "cell_type": "markdown",
      "source": [
        "Чем выше значение `precision` при фиксированном `recall`, тем точнее модель предсказывает положительный класс. График модели с плохими параметрами выглядел бы как горизонтальная прямая с точностью, пропорциональной количеству положительных примеров в наборе данных (если данные сбалансированы, то точность 0.5). Лучше всего результат у модели 1, так как при увеличении полноты до 1 ее точность ухудшается позже всех остальных моделей. Раньше всех у модели 2, однако, в отличие от модели 3, у нее дольше сохраняется хорошая точность при увеличении `recall`. AUC больше всего у модели 1, но разница минимальна."
      ],
      "metadata": {
        "id": "y7OPw0pYLkPt"
      }
    },
    {
      "cell_type": "markdown",
      "source": [
        "Из трех моделей мы бы предпочли использовать первую, так как она показала лучший результат на обучающей выборке и хороший результат на тестовой. Третья модель, вероятно, может быть склонна к переобучению, и, делать некорректные предсказания на другой тестовой выборке."
      ],
      "metadata": {
        "id": "nf0C7EXO1ox1"
      }
    },
    {
      "cell_type": "markdown",
      "source": [
        "#Градиентный бустинг"
      ],
      "metadata": {
        "id": "HmLm7wRtj8gj"
      }
    },
    {
      "cell_type": "markdown",
      "source": [
        "Рассмотрим градиентный бустинг."
      ],
      "metadata": {
        "id": "eM1jEaV7MnRM"
      }
    },
    {
      "cell_type": "markdown",
      "source": [
        "##Гиперпараметры и обучение"
      ],
      "metadata": {
        "id": "oWIal1bUk9Os"
      }
    },
    {
      "cell_type": "markdown",
      "source": [
        "Зададим такой набор гиперпараметров:\n",
        "1. `n_estimators` -- количество деревьев в ансамбле\n",
        "2. `learning_rate` -- скорость обучения (контролирует вклад каждого дерева в итоговую модель)\n",
        "3. `max_depth` -- максимальная глубина деревьев\n",
        "4. `min_samples_split` -- минимальное количество объектов, необходимое для разделения узла\n",
        "5. `subsample` -- доля выборки, используемая для обучения каждого дерева\n",
        "\n",
        "Проделаем аналогичные действия с `GridSearchCV` для обучения множества моделей"
      ],
      "metadata": {
        "id": "PBsywKmdMtve"
      }
    },
    {
      "cell_type": "code",
      "source": [
        "par_gb = {\n",
        "    'n_estimators': [10, 50, 100],\n",
        "    'learning_rate': [0.001, 0.1, 100],\n",
        "    'max_depth': [5, 10, 20, None],\n",
        "    'min_samples_split': [2, 5, 10],\n",
        "    'subsample': [0.6, 0.8, 1.0]\n",
        "}\n",
        "\n",
        "gb = GradientBoostingClassifier(random_state=100)\n",
        "gb_grid = GridSearchCV(gb, par_gb, cv=4, scoring='accuracy', n_jobs=-1)\n",
        "gb_grid.fit(X_train, y_train)"
      ],
      "metadata": {
        "colab": {
          "base_uri": "https://localhost:8080/",
          "height": 164
        },
        "id": "k-GXFy5oDQoG",
        "outputId": "478b219b-524c-4d4f-91b5-3be6fd982f4d"
      },
      "execution_count": null,
      "outputs": [
        {
          "output_type": "execute_result",
          "data": {
            "text/plain": [
              "GridSearchCV(cv=4, estimator=GradientBoostingClassifier(random_state=100),\n",
              "             n_jobs=-1,\n",
              "             param_grid={'learning_rate': [0.001, 0.1, 100],\n",
              "                         'max_depth': [5, 10, 20, None],\n",
              "                         'min_samples_split': [2, 5, 10],\n",
              "                         'n_estimators': [10, 50, 100],\n",
              "                         'subsample': [0.6, 0.8, 1.0]},\n",
              "             scoring='accuracy')"
            ],
            "text/html": [
              "<style>#sk-container-id-2 {\n",
              "  /* Definition of color scheme common for light and dark mode */\n",
              "  --sklearn-color-text: #000;\n",
              "  --sklearn-color-text-muted: #666;\n",
              "  --sklearn-color-line: gray;\n",
              "  /* Definition of color scheme for unfitted estimators */\n",
              "  --sklearn-color-unfitted-level-0: #fff5e6;\n",
              "  --sklearn-color-unfitted-level-1: #f6e4d2;\n",
              "  --sklearn-color-unfitted-level-2: #ffe0b3;\n",
              "  --sklearn-color-unfitted-level-3: chocolate;\n",
              "  /* Definition of color scheme for fitted estimators */\n",
              "  --sklearn-color-fitted-level-0: #f0f8ff;\n",
              "  --sklearn-color-fitted-level-1: #d4ebff;\n",
              "  --sklearn-color-fitted-level-2: #b3dbfd;\n",
              "  --sklearn-color-fitted-level-3: cornflowerblue;\n",
              "\n",
              "  /* Specific color for light theme */\n",
              "  --sklearn-color-text-on-default-background: var(--sg-text-color, var(--theme-code-foreground, var(--jp-content-font-color1, black)));\n",
              "  --sklearn-color-background: var(--sg-background-color, var(--theme-background, var(--jp-layout-color0, white)));\n",
              "  --sklearn-color-border-box: var(--sg-text-color, var(--theme-code-foreground, var(--jp-content-font-color1, black)));\n",
              "  --sklearn-color-icon: #696969;\n",
              "\n",
              "  @media (prefers-color-scheme: dark) {\n",
              "    /* Redefinition of color scheme for dark theme */\n",
              "    --sklearn-color-text-on-default-background: var(--sg-text-color, var(--theme-code-foreground, var(--jp-content-font-color1, white)));\n",
              "    --sklearn-color-background: var(--sg-background-color, var(--theme-background, var(--jp-layout-color0, #111)));\n",
              "    --sklearn-color-border-box: var(--sg-text-color, var(--theme-code-foreground, var(--jp-content-font-color1, white)));\n",
              "    --sklearn-color-icon: #878787;\n",
              "  }\n",
              "}\n",
              "\n",
              "#sk-container-id-2 {\n",
              "  color: var(--sklearn-color-text);\n",
              "}\n",
              "\n",
              "#sk-container-id-2 pre {\n",
              "  padding: 0;\n",
              "}\n",
              "\n",
              "#sk-container-id-2 input.sk-hidden--visually {\n",
              "  border: 0;\n",
              "  clip: rect(1px 1px 1px 1px);\n",
              "  clip: rect(1px, 1px, 1px, 1px);\n",
              "  height: 1px;\n",
              "  margin: -1px;\n",
              "  overflow: hidden;\n",
              "  padding: 0;\n",
              "  position: absolute;\n",
              "  width: 1px;\n",
              "}\n",
              "\n",
              "#sk-container-id-2 div.sk-dashed-wrapped {\n",
              "  border: 1px dashed var(--sklearn-color-line);\n",
              "  margin: 0 0.4em 0.5em 0.4em;\n",
              "  box-sizing: border-box;\n",
              "  padding-bottom: 0.4em;\n",
              "  background-color: var(--sklearn-color-background);\n",
              "}\n",
              "\n",
              "#sk-container-id-2 div.sk-container {\n",
              "  /* jupyter's `normalize.less` sets `[hidden] { display: none; }`\n",
              "     but bootstrap.min.css set `[hidden] { display: none !important; }`\n",
              "     so we also need the `!important` here to be able to override the\n",
              "     default hidden behavior on the sphinx rendered scikit-learn.org.\n",
              "     See: https://github.com/scikit-learn/scikit-learn/issues/21755 */\n",
              "  display: inline-block !important;\n",
              "  position: relative;\n",
              "}\n",
              "\n",
              "#sk-container-id-2 div.sk-text-repr-fallback {\n",
              "  display: none;\n",
              "}\n",
              "\n",
              "div.sk-parallel-item,\n",
              "div.sk-serial,\n",
              "div.sk-item {\n",
              "  /* draw centered vertical line to link estimators */\n",
              "  background-image: linear-gradient(var(--sklearn-color-text-on-default-background), var(--sklearn-color-text-on-default-background));\n",
              "  background-size: 2px 100%;\n",
              "  background-repeat: no-repeat;\n",
              "  background-position: center center;\n",
              "}\n",
              "\n",
              "/* Parallel-specific style estimator block */\n",
              "\n",
              "#sk-container-id-2 div.sk-parallel-item::after {\n",
              "  content: \"\";\n",
              "  width: 100%;\n",
              "  border-bottom: 2px solid var(--sklearn-color-text-on-default-background);\n",
              "  flex-grow: 1;\n",
              "}\n",
              "\n",
              "#sk-container-id-2 div.sk-parallel {\n",
              "  display: flex;\n",
              "  align-items: stretch;\n",
              "  justify-content: center;\n",
              "  background-color: var(--sklearn-color-background);\n",
              "  position: relative;\n",
              "}\n",
              "\n",
              "#sk-container-id-2 div.sk-parallel-item {\n",
              "  display: flex;\n",
              "  flex-direction: column;\n",
              "}\n",
              "\n",
              "#sk-container-id-2 div.sk-parallel-item:first-child::after {\n",
              "  align-self: flex-end;\n",
              "  width: 50%;\n",
              "}\n",
              "\n",
              "#sk-container-id-2 div.sk-parallel-item:last-child::after {\n",
              "  align-self: flex-start;\n",
              "  width: 50%;\n",
              "}\n",
              "\n",
              "#sk-container-id-2 div.sk-parallel-item:only-child::after {\n",
              "  width: 0;\n",
              "}\n",
              "\n",
              "/* Serial-specific style estimator block */\n",
              "\n",
              "#sk-container-id-2 div.sk-serial {\n",
              "  display: flex;\n",
              "  flex-direction: column;\n",
              "  align-items: center;\n",
              "  background-color: var(--sklearn-color-background);\n",
              "  padding-right: 1em;\n",
              "  padding-left: 1em;\n",
              "}\n",
              "\n",
              "\n",
              "/* Toggleable style: style used for estimator/Pipeline/ColumnTransformer box that is\n",
              "clickable and can be expanded/collapsed.\n",
              "- Pipeline and ColumnTransformer use this feature and define the default style\n",
              "- Estimators will overwrite some part of the style using the `sk-estimator` class\n",
              "*/\n",
              "\n",
              "/* Pipeline and ColumnTransformer style (default) */\n",
              "\n",
              "#sk-container-id-2 div.sk-toggleable {\n",
              "  /* Default theme specific background. It is overwritten whether we have a\n",
              "  specific estimator or a Pipeline/ColumnTransformer */\n",
              "  background-color: var(--sklearn-color-background);\n",
              "}\n",
              "\n",
              "/* Toggleable label */\n",
              "#sk-container-id-2 label.sk-toggleable__label {\n",
              "  cursor: pointer;\n",
              "  display: flex;\n",
              "  width: 100%;\n",
              "  margin-bottom: 0;\n",
              "  padding: 0.5em;\n",
              "  box-sizing: border-box;\n",
              "  text-align: center;\n",
              "  align-items: start;\n",
              "  justify-content: space-between;\n",
              "  gap: 0.5em;\n",
              "}\n",
              "\n",
              "#sk-container-id-2 label.sk-toggleable__label .caption {\n",
              "  font-size: 0.6rem;\n",
              "  font-weight: lighter;\n",
              "  color: var(--sklearn-color-text-muted);\n",
              "}\n",
              "\n",
              "#sk-container-id-2 label.sk-toggleable__label-arrow:before {\n",
              "  /* Arrow on the left of the label */\n",
              "  content: \"▸\";\n",
              "  float: left;\n",
              "  margin-right: 0.25em;\n",
              "  color: var(--sklearn-color-icon);\n",
              "}\n",
              "\n",
              "#sk-container-id-2 label.sk-toggleable__label-arrow:hover:before {\n",
              "  color: var(--sklearn-color-text);\n",
              "}\n",
              "\n",
              "/* Toggleable content - dropdown */\n",
              "\n",
              "#sk-container-id-2 div.sk-toggleable__content {\n",
              "  max-height: 0;\n",
              "  max-width: 0;\n",
              "  overflow: hidden;\n",
              "  text-align: left;\n",
              "  /* unfitted */\n",
              "  background-color: var(--sklearn-color-unfitted-level-0);\n",
              "}\n",
              "\n",
              "#sk-container-id-2 div.sk-toggleable__content.fitted {\n",
              "  /* fitted */\n",
              "  background-color: var(--sklearn-color-fitted-level-0);\n",
              "}\n",
              "\n",
              "#sk-container-id-2 div.sk-toggleable__content pre {\n",
              "  margin: 0.2em;\n",
              "  border-radius: 0.25em;\n",
              "  color: var(--sklearn-color-text);\n",
              "  /* unfitted */\n",
              "  background-color: var(--sklearn-color-unfitted-level-0);\n",
              "}\n",
              "\n",
              "#sk-container-id-2 div.sk-toggleable__content.fitted pre {\n",
              "  /* unfitted */\n",
              "  background-color: var(--sklearn-color-fitted-level-0);\n",
              "}\n",
              "\n",
              "#sk-container-id-2 input.sk-toggleable__control:checked~div.sk-toggleable__content {\n",
              "  /* Expand drop-down */\n",
              "  max-height: 200px;\n",
              "  max-width: 100%;\n",
              "  overflow: auto;\n",
              "}\n",
              "\n",
              "#sk-container-id-2 input.sk-toggleable__control:checked~label.sk-toggleable__label-arrow:before {\n",
              "  content: \"▾\";\n",
              "}\n",
              "\n",
              "/* Pipeline/ColumnTransformer-specific style */\n",
              "\n",
              "#sk-container-id-2 div.sk-label input.sk-toggleable__control:checked~label.sk-toggleable__label {\n",
              "  color: var(--sklearn-color-text);\n",
              "  background-color: var(--sklearn-color-unfitted-level-2);\n",
              "}\n",
              "\n",
              "#sk-container-id-2 div.sk-label.fitted input.sk-toggleable__control:checked~label.sk-toggleable__label {\n",
              "  background-color: var(--sklearn-color-fitted-level-2);\n",
              "}\n",
              "\n",
              "/* Estimator-specific style */\n",
              "\n",
              "/* Colorize estimator box */\n",
              "#sk-container-id-2 div.sk-estimator input.sk-toggleable__control:checked~label.sk-toggleable__label {\n",
              "  /* unfitted */\n",
              "  background-color: var(--sklearn-color-unfitted-level-2);\n",
              "}\n",
              "\n",
              "#sk-container-id-2 div.sk-estimator.fitted input.sk-toggleable__control:checked~label.sk-toggleable__label {\n",
              "  /* fitted */\n",
              "  background-color: var(--sklearn-color-fitted-level-2);\n",
              "}\n",
              "\n",
              "#sk-container-id-2 div.sk-label label.sk-toggleable__label,\n",
              "#sk-container-id-2 div.sk-label label {\n",
              "  /* The background is the default theme color */\n",
              "  color: var(--sklearn-color-text-on-default-background);\n",
              "}\n",
              "\n",
              "/* On hover, darken the color of the background */\n",
              "#sk-container-id-2 div.sk-label:hover label.sk-toggleable__label {\n",
              "  color: var(--sklearn-color-text);\n",
              "  background-color: var(--sklearn-color-unfitted-level-2);\n",
              "}\n",
              "\n",
              "/* Label box, darken color on hover, fitted */\n",
              "#sk-container-id-2 div.sk-label.fitted:hover label.sk-toggleable__label.fitted {\n",
              "  color: var(--sklearn-color-text);\n",
              "  background-color: var(--sklearn-color-fitted-level-2);\n",
              "}\n",
              "\n",
              "/* Estimator label */\n",
              "\n",
              "#sk-container-id-2 div.sk-label label {\n",
              "  font-family: monospace;\n",
              "  font-weight: bold;\n",
              "  display: inline-block;\n",
              "  line-height: 1.2em;\n",
              "}\n",
              "\n",
              "#sk-container-id-2 div.sk-label-container {\n",
              "  text-align: center;\n",
              "}\n",
              "\n",
              "/* Estimator-specific */\n",
              "#sk-container-id-2 div.sk-estimator {\n",
              "  font-family: monospace;\n",
              "  border: 1px dotted var(--sklearn-color-border-box);\n",
              "  border-radius: 0.25em;\n",
              "  box-sizing: border-box;\n",
              "  margin-bottom: 0.5em;\n",
              "  /* unfitted */\n",
              "  background-color: var(--sklearn-color-unfitted-level-0);\n",
              "}\n",
              "\n",
              "#sk-container-id-2 div.sk-estimator.fitted {\n",
              "  /* fitted */\n",
              "  background-color: var(--sklearn-color-fitted-level-0);\n",
              "}\n",
              "\n",
              "/* on hover */\n",
              "#sk-container-id-2 div.sk-estimator:hover {\n",
              "  /* unfitted */\n",
              "  background-color: var(--sklearn-color-unfitted-level-2);\n",
              "}\n",
              "\n",
              "#sk-container-id-2 div.sk-estimator.fitted:hover {\n",
              "  /* fitted */\n",
              "  background-color: var(--sklearn-color-fitted-level-2);\n",
              "}\n",
              "\n",
              "/* Specification for estimator info (e.g. \"i\" and \"?\") */\n",
              "\n",
              "/* Common style for \"i\" and \"?\" */\n",
              "\n",
              ".sk-estimator-doc-link,\n",
              "a:link.sk-estimator-doc-link,\n",
              "a:visited.sk-estimator-doc-link {\n",
              "  float: right;\n",
              "  font-size: smaller;\n",
              "  line-height: 1em;\n",
              "  font-family: monospace;\n",
              "  background-color: var(--sklearn-color-background);\n",
              "  border-radius: 1em;\n",
              "  height: 1em;\n",
              "  width: 1em;\n",
              "  text-decoration: none !important;\n",
              "  margin-left: 0.5em;\n",
              "  text-align: center;\n",
              "  /* unfitted */\n",
              "  border: var(--sklearn-color-unfitted-level-1) 1pt solid;\n",
              "  color: var(--sklearn-color-unfitted-level-1);\n",
              "}\n",
              "\n",
              ".sk-estimator-doc-link.fitted,\n",
              "a:link.sk-estimator-doc-link.fitted,\n",
              "a:visited.sk-estimator-doc-link.fitted {\n",
              "  /* fitted */\n",
              "  border: var(--sklearn-color-fitted-level-1) 1pt solid;\n",
              "  color: var(--sklearn-color-fitted-level-1);\n",
              "}\n",
              "\n",
              "/* On hover */\n",
              "div.sk-estimator:hover .sk-estimator-doc-link:hover,\n",
              ".sk-estimator-doc-link:hover,\n",
              "div.sk-label-container:hover .sk-estimator-doc-link:hover,\n",
              ".sk-estimator-doc-link:hover {\n",
              "  /* unfitted */\n",
              "  background-color: var(--sklearn-color-unfitted-level-3);\n",
              "  color: var(--sklearn-color-background);\n",
              "  text-decoration: none;\n",
              "}\n",
              "\n",
              "div.sk-estimator.fitted:hover .sk-estimator-doc-link.fitted:hover,\n",
              ".sk-estimator-doc-link.fitted:hover,\n",
              "div.sk-label-container:hover .sk-estimator-doc-link.fitted:hover,\n",
              ".sk-estimator-doc-link.fitted:hover {\n",
              "  /* fitted */\n",
              "  background-color: var(--sklearn-color-fitted-level-3);\n",
              "  color: var(--sklearn-color-background);\n",
              "  text-decoration: none;\n",
              "}\n",
              "\n",
              "/* Span, style for the box shown on hovering the info icon */\n",
              ".sk-estimator-doc-link span {\n",
              "  display: none;\n",
              "  z-index: 9999;\n",
              "  position: relative;\n",
              "  font-weight: normal;\n",
              "  right: .2ex;\n",
              "  padding: .5ex;\n",
              "  margin: .5ex;\n",
              "  width: min-content;\n",
              "  min-width: 20ex;\n",
              "  max-width: 50ex;\n",
              "  color: var(--sklearn-color-text);\n",
              "  box-shadow: 2pt 2pt 4pt #999;\n",
              "  /* unfitted */\n",
              "  background: var(--sklearn-color-unfitted-level-0);\n",
              "  border: .5pt solid var(--sklearn-color-unfitted-level-3);\n",
              "}\n",
              "\n",
              ".sk-estimator-doc-link.fitted span {\n",
              "  /* fitted */\n",
              "  background: var(--sklearn-color-fitted-level-0);\n",
              "  border: var(--sklearn-color-fitted-level-3);\n",
              "}\n",
              "\n",
              ".sk-estimator-doc-link:hover span {\n",
              "  display: block;\n",
              "}\n",
              "\n",
              "/* \"?\"-specific style due to the `<a>` HTML tag */\n",
              "\n",
              "#sk-container-id-2 a.estimator_doc_link {\n",
              "  float: right;\n",
              "  font-size: 1rem;\n",
              "  line-height: 1em;\n",
              "  font-family: monospace;\n",
              "  background-color: var(--sklearn-color-background);\n",
              "  border-radius: 1rem;\n",
              "  height: 1rem;\n",
              "  width: 1rem;\n",
              "  text-decoration: none;\n",
              "  /* unfitted */\n",
              "  color: var(--sklearn-color-unfitted-level-1);\n",
              "  border: var(--sklearn-color-unfitted-level-1) 1pt solid;\n",
              "}\n",
              "\n",
              "#sk-container-id-2 a.estimator_doc_link.fitted {\n",
              "  /* fitted */\n",
              "  border: var(--sklearn-color-fitted-level-1) 1pt solid;\n",
              "  color: var(--sklearn-color-fitted-level-1);\n",
              "}\n",
              "\n",
              "/* On hover */\n",
              "#sk-container-id-2 a.estimator_doc_link:hover {\n",
              "  /* unfitted */\n",
              "  background-color: var(--sklearn-color-unfitted-level-3);\n",
              "  color: var(--sklearn-color-background);\n",
              "  text-decoration: none;\n",
              "}\n",
              "\n",
              "#sk-container-id-2 a.estimator_doc_link.fitted:hover {\n",
              "  /* fitted */\n",
              "  background-color: var(--sklearn-color-fitted-level-3);\n",
              "}\n",
              "</style><div id=\"sk-container-id-2\" class=\"sk-top-container\"><div class=\"sk-text-repr-fallback\"><pre>GridSearchCV(cv=4, estimator=GradientBoostingClassifier(random_state=100),\n",
              "             n_jobs=-1,\n",
              "             param_grid={&#x27;learning_rate&#x27;: [0.001, 0.1, 100],\n",
              "                         &#x27;max_depth&#x27;: [5, 10, 20, None],\n",
              "                         &#x27;min_samples_split&#x27;: [2, 5, 10],\n",
              "                         &#x27;n_estimators&#x27;: [10, 50, 100],\n",
              "                         &#x27;subsample&#x27;: [0.6, 0.8, 1.0]},\n",
              "             scoring=&#x27;accuracy&#x27;)</pre><b>In a Jupyter environment, please rerun this cell to show the HTML representation or trust the notebook. <br />On GitHub, the HTML representation is unable to render, please try loading this page with nbviewer.org.</b></div><div class=\"sk-container\" hidden><div class=\"sk-item sk-dashed-wrapped\"><div class=\"sk-label-container\"><div class=\"sk-label fitted sk-toggleable\"><input class=\"sk-toggleable__control sk-hidden--visually\" id=\"sk-estimator-id-4\" type=\"checkbox\" ><label for=\"sk-estimator-id-4\" class=\"sk-toggleable__label fitted sk-toggleable__label-arrow\"><div><div>GridSearchCV</div></div><div><a class=\"sk-estimator-doc-link fitted\" rel=\"noreferrer\" target=\"_blank\" href=\"https://scikit-learn.org/1.6/modules/generated/sklearn.model_selection.GridSearchCV.html\">?<span>Documentation for GridSearchCV</span></a><span class=\"sk-estimator-doc-link fitted\">i<span>Fitted</span></span></div></label><div class=\"sk-toggleable__content fitted\"><pre>GridSearchCV(cv=4, estimator=GradientBoostingClassifier(random_state=100),\n",
              "             n_jobs=-1,\n",
              "             param_grid={&#x27;learning_rate&#x27;: [0.001, 0.1, 100],\n",
              "                         &#x27;max_depth&#x27;: [5, 10, 20, None],\n",
              "                         &#x27;min_samples_split&#x27;: [2, 5, 10],\n",
              "                         &#x27;n_estimators&#x27;: [10, 50, 100],\n",
              "                         &#x27;subsample&#x27;: [0.6, 0.8, 1.0]},\n",
              "             scoring=&#x27;accuracy&#x27;)</pre></div> </div></div><div class=\"sk-parallel\"><div class=\"sk-parallel-item\"><div class=\"sk-item\"><div class=\"sk-label-container\"><div class=\"sk-label fitted sk-toggleable\"><input class=\"sk-toggleable__control sk-hidden--visually\" id=\"sk-estimator-id-5\" type=\"checkbox\" ><label for=\"sk-estimator-id-5\" class=\"sk-toggleable__label fitted sk-toggleable__label-arrow\"><div><div>best_estimator_: GradientBoostingClassifier</div></div></label><div class=\"sk-toggleable__content fitted\"><pre>GradientBoostingClassifier(max_depth=20, min_samples_split=5, n_estimators=50,\n",
              "                           random_state=100, subsample=0.6)</pre></div> </div></div><div class=\"sk-serial\"><div class=\"sk-item\"><div class=\"sk-estimator fitted sk-toggleable\"><input class=\"sk-toggleable__control sk-hidden--visually\" id=\"sk-estimator-id-6\" type=\"checkbox\" ><label for=\"sk-estimator-id-6\" class=\"sk-toggleable__label fitted sk-toggleable__label-arrow\"><div><div>GradientBoostingClassifier</div></div><div><a class=\"sk-estimator-doc-link fitted\" rel=\"noreferrer\" target=\"_blank\" href=\"https://scikit-learn.org/1.6/modules/generated/sklearn.ensemble.GradientBoostingClassifier.html\">?<span>Documentation for GradientBoostingClassifier</span></a></div></label><div class=\"sk-toggleable__content fitted\"><pre>GradientBoostingClassifier(max_depth=20, min_samples_split=5, n_estimators=50,\n",
              "                           random_state=100, subsample=0.6)</pre></div> </div></div></div></div></div></div></div></div></div>"
            ]
          },
          "metadata": {},
          "execution_count": 16
        }
      ]
    },
    {
      "cell_type": "markdown",
      "source": [
        "##Результат с наивысшей оценкой"
      ],
      "metadata": {
        "id": "bQut1YK7lAoO"
      }
    },
    {
      "cell_type": "markdown",
      "source": [
        "Выведем параметры модели с лучшим результатом согласно нашему способу оценки и среднее точности по всем фолдам"
      ],
      "metadata": {
        "id": "oiozpUn8N94o"
      }
    },
    {
      "cell_type": "code",
      "source": [
        "print(f\"Highest score {type(gb).__name__} parameters: {gb_grid.best_params_}\")\n",
        "print(f\"Highest accuracy on all folds: {gb_grid.best_score_:.2f}\")"
      ],
      "metadata": {
        "colab": {
          "base_uri": "https://localhost:8080/"
        },
        "id": "gnVyPmVtEtE-",
        "outputId": "c6790047-e1d8-48d3-9c7d-7b985bd7da47"
      },
      "execution_count": null,
      "outputs": [
        {
          "output_type": "stream",
          "name": "stdout",
          "text": [
            "Highest score GradientBoostingClassifier parameters: {'learning_rate': 0.1, 'max_depth': 20, 'min_samples_split': 5, 'n_estimators': 50, 'subsample': 0.6}\n",
            "Highest accuracy on all folds: 0.82\n"
          ]
        }
      ]
    },
    {
      "cell_type": "markdown",
      "source": [
        "Вывод аналогичен пункту со случайным лесом."
      ],
      "metadata": {
        "id": "-rB-BXzzODOK"
      }
    },
    {
      "cell_type": "markdown",
      "source": [
        "##Сравнение моделей"
      ],
      "metadata": {
        "id": "CWukLTXdlDCq"
      }
    },
    {
      "cell_type": "markdown",
      "source": [
        "Аналогично сравним три модели. Выведем оценку и гиперпараметры для каждой пары \"точность-параметры\""
      ],
      "metadata": {
        "id": "BHiiHp3KOIph"
      }
    },
    {
      "cell_type": "code",
      "source": [
        "highest_gb_score_params = get_highest_score_params(gb_grid)\n",
        "median_gb_score_params = get_median_score_params(gb_grid)\n",
        "lowest_gb_score_params = get_lowest_score_params(gb_grid)\n",
        "sorted_gb_params_for_comparison = [highest_gb_score_params[1],\n",
        "                                   median_gb_score_params[1],\n",
        "                                   lowest_gb_score_params[1]]\n",
        "print(f\"Highest score: {highest_gb_score_params[0]:.2f}\")\n",
        "print(f\"Median score: {median_gb_score_params[0]:.2f}\")\n",
        "print(f\"Lowest score: {lowest_gb_score_params[0]:.2f}\")\n",
        "sorted_gb_params_for_comparison"
      ],
      "metadata": {
        "colab": {
          "base_uri": "https://localhost:8080/"
        },
        "id": "gO8tjWD-UZ5Z",
        "outputId": "f77d9f2b-8907-4795-d0b0-43973872a890"
      },
      "execution_count": null,
      "outputs": [
        {
          "output_type": "stream",
          "name": "stdout",
          "text": [
            "Highest score: 0.82\n",
            "Median score: 0.62\n",
            "Lowest score: 0.46\n"
          ]
        },
        {
          "output_type": "execute_result",
          "data": {
            "text/plain": [
              "[{'learning_rate': 0.1,\n",
              "  'max_depth': 20,\n",
              "  'min_samples_split': 5,\n",
              "  'n_estimators': 50,\n",
              "  'subsample': 0.6},\n",
              " {'learning_rate': 100,\n",
              "  'max_depth': 20,\n",
              "  'min_samples_split': 10,\n",
              "  'n_estimators': 10,\n",
              "  'subsample': 1.0},\n",
              " {'learning_rate': 100,\n",
              "  'max_depth': 5,\n",
              "  'min_samples_split': 10,\n",
              "  'n_estimators': 10,\n",
              "  'subsample': 1.0}]"
            ]
          },
          "metadata": {},
          "execution_count": 18
        }
      ]
    },
    {
      "cell_type": "markdown",
      "source": [
        "Точность между минимумом и максимумом отличается почти в 2 раза. В этом случае точность нестабильна, медиана немного смещена."
      ],
      "metadata": {
        "id": "f_MvlkFXOqTK"
      }
    },
    {
      "cell_type": "markdown",
      "source": [
        "Аналогично создадим модели для сравнения. Выведем их со своими гиперпараметрами"
      ],
      "metadata": {
        "id": "QlShaIrdPWEQ"
      }
    },
    {
      "cell_type": "code",
      "source": [
        "rs = 100\n",
        "highest_score_gb_model = GradientBoostingClassifier(\n",
        "    **sorted_gb_params_for_comparison[0], random_state=rs\n",
        ")\n",
        "median_score_gb_model = GradientBoostingClassifier(\n",
        "    **sorted_gb_params_for_comparison[1], random_state=rs\n",
        ")\n",
        "lowest_score_gb_model = GradientBoostingClassifier(\n",
        "    **sorted_gb_params_for_comparison[2], random_state=rs\n",
        ")\n",
        "\n",
        "gb_models_to_train = [highest_score_gb_model, median_score_gb_model,\n",
        "                      lowest_score_gb_model]\n",
        "trained_gb_models = get_trained_classif_models(gb_models_to_train, X_train,\n",
        "                                               y_train)\n",
        "trained_gb_models"
      ],
      "metadata": {
        "colab": {
          "base_uri": "https://localhost:8080/"
        },
        "id": "FuduBQabUtC5",
        "outputId": "fe5c742d-7315-4510-de41-9fe33cdc4ed6"
      },
      "execution_count": null,
      "outputs": [
        {
          "output_type": "execute_result",
          "data": {
            "text/plain": [
              "[GradientBoostingClassifier(max_depth=20, min_samples_split=5, n_estimators=50,\n",
              "                            random_state=100, subsample=0.6),\n",
              " GradientBoostingClassifier(learning_rate=100, max_depth=20,\n",
              "                            min_samples_split=10, n_estimators=10,\n",
              "                            random_state=100),\n",
              " GradientBoostingClassifier(learning_rate=100, max_depth=5, min_samples_split=10,\n",
              "                            n_estimators=10, random_state=100)]"
            ]
          },
          "metadata": {},
          "execution_count": 19
        }
      ]
    },
    {
      "cell_type": "markdown",
      "source": [
        "Используем модели для предсказания меток. Выведем результаты"
      ],
      "metadata": {
        "id": "6azGydHrPf59"
      }
    },
    {
      "cell_type": "code",
      "source": [
        "gb_y_preds = get_preds_classif_models(trained_gb_models, X_test)\n",
        "gb_y_preds"
      ],
      "metadata": {
        "colab": {
          "base_uri": "https://localhost:8080/"
        },
        "id": "rZ_gepUrVOZC",
        "outputId": "572c393e-3290-4dc6-dac6-7e872acf85bb"
      },
      "execution_count": null,
      "outputs": [
        {
          "output_type": "execute_result",
          "data": {
            "text/plain": [
              "[array([0, 1, 1, 0, 1, 1, 1, 0, 1, 0, 0, 1, 1, 1, 0, 0, 1, 0, 0, 0, 1, 1,\n",
              "        0, 0, 1, 1, 1, 0, 1, 1, 1, 1, 1, 0, 0, 1, 1, 0, 1, 1, 0, 0, 1, 1,\n",
              "        1, 0, 1, 0, 0, 1, 1, 0, 1, 0, 0, 1, 0, 1, 1, 0, 1]),\n",
              " array([1, 0, 1, 1, 1, 1, 0, 1, 1, 1, 1, 1, 1, 1, 1, 0, 1, 1, 0, 0, 0, 0,\n",
              "        1, 1, 1, 1, 1, 0, 1, 1, 1, 1, 1, 1, 1, 1, 1, 1, 1, 1, 1, 1, 1, 0,\n",
              "        1, 1, 1, 1, 1, 1, 0, 1, 1, 0, 1, 1, 0, 0, 1, 1, 1]),\n",
              " array([0, 0, 1, 1, 1, 0, 0, 1, 1, 1, 1, 0, 0, 1, 1, 1, 1, 0, 1, 1, 0, 1,\n",
              "        0, 0, 1, 1, 1, 1, 1, 1, 1, 0, 0, 1, 1, 1, 1, 1, 1, 0, 0, 1, 0, 1,\n",
              "        0, 1, 0, 0, 1, 1, 0, 1, 1, 0, 1, 1, 0, 1, 1, 0, 0])]"
            ]
          },
          "metadata": {},
          "execution_count": 20
        }
      ]
    },
    {
      "cell_type": "markdown",
      "source": [
        "Сравним модели по `classification_report`. Выведем результат `get_evals_classif_models`"
      ],
      "metadata": {
        "id": "DNrhwigHPmES"
      }
    },
    {
      "cell_type": "code",
      "source": [
        "gb_reports = get_evals_classif_models(gb_y_preds, y_test)\n",
        "titles = [\"Highest score model\", \"Median score model\", \"Lowest score model\"]\n",
        "print(f\"{type(gb).__name__} models comparison on test data:\")\n",
        "print(\"-\" * 53)\n",
        "for i in range(len(gb_reports)):\n",
        "    print(f\"{titles[i]}: {sorted_gb_params_for_comparison[i]}:\")\n",
        "    print(\"-\" * 53)\n",
        "    print(gb_reports[i])\n",
        "    print(\"-\" * 53)"
      ],
      "metadata": {
        "colab": {
          "base_uri": "https://localhost:8080/"
        },
        "id": "W5_gCQhsVJft",
        "outputId": "6d4ef1e0-4a53-4a90-f4a2-34303b2044c1"
      },
      "execution_count": null,
      "outputs": [
        {
          "output_type": "stream",
          "name": "stdout",
          "text": [
            "GradientBoostingClassifier models comparison on test data:\n",
            "-----------------------------------------------------\n",
            "Highest score model: {'learning_rate': 0.1, 'max_depth': 20, 'min_samples_split': 5, 'n_estimators': 50, 'subsample': 0.6}:\n",
            "-----------------------------------------------------\n",
            "              precision    recall  f1-score   support\n",
            "\n",
            "           0       0.88      0.88      0.88        26\n",
            "           1       0.91      0.91      0.91        35\n",
            "\n",
            "    accuracy                           0.90        61\n",
            "   macro avg       0.90      0.90      0.90        61\n",
            "weighted avg       0.90      0.90      0.90        61\n",
            "\n",
            "-----------------------------------------------------\n",
            "Median score model: {'learning_rate': 100, 'max_depth': 20, 'min_samples_split': 10, 'n_estimators': 10, 'subsample': 1.0}:\n",
            "-----------------------------------------------------\n",
            "              precision    recall  f1-score   support\n",
            "\n",
            "           0       0.31      0.15      0.21        26\n",
            "           1       0.54      0.74      0.63        35\n",
            "\n",
            "    accuracy                           0.49        61\n",
            "   macro avg       0.42      0.45      0.42        61\n",
            "weighted avg       0.44      0.49      0.45        61\n",
            "\n",
            "-----------------------------------------------------\n",
            "Lowest score model: {'learning_rate': 100, 'max_depth': 5, 'min_samples_split': 10, 'n_estimators': 10, 'subsample': 1.0}:\n",
            "-----------------------------------------------------\n",
            "              precision    recall  f1-score   support\n",
            "\n",
            "           0       0.48      0.42      0.45        26\n",
            "           1       0.61      0.66      0.63        35\n",
            "\n",
            "    accuracy                           0.56        61\n",
            "   macro avg       0.54      0.54      0.54        61\n",
            "weighted avg       0.55      0.56      0.55        61\n",
            "\n",
            "-----------------------------------------------------\n"
          ]
        }
      ]
    },
    {
      "cell_type": "markdown",
      "source": [
        "Обозначим модель 1 -- модель с наивысшей точностью на обучающей выборке, модель 2 -- с медианной точностью на обучающей выборке, модель 3 -- с наименьшей точностью на обучающей выборке.\n",
        "\n",
        "Единственный хороший и лучший результат показала модель 1. Стоит заметить, что для каждого класса `precision` и `recall` сбалансированы -- модель одинаково хорошо классифицирует положительные и отрицательные примеры. Модель 2 же неплохо распознает положительные классы, но с трудом классифицирует отрицательные (см. `recall`). Несмотря на неплохой `recall` для 1, точность для этого класса оказывается низкой. Модель в целом плохо обобщает данные. Модель 3 отличается от модели 2 только параметром максимальной глубины деревьев -- она меньше, при этом точность хоть и стала выше, но не намного, и, модель 3 стала хуже распознавать положительные классы. Однако стала лучше классифицировать отрицательные классы. Низкая точность может быть связана с высоким значением `learning_rate` -- у первой модели оно намного меньше. При этом у первой модели так же как и у второй максимальная глубина деревьев равна 20, однако больше деревьев, и, узлы потенциально делятся чаще. Чтобы с такими параметрами первая модель не переобучилась, ей нужно уменьшить долю обучающей выборки на каждое дерево (как раз `subsample=0.6` вместо 1.0) и задать низкое значение `learning_rate` (более аккуратной контроль весов, как раз 0.1 вместо 100). Поэтому результат первой модели настолько точный."
      ],
      "metadata": {
        "id": "Ul08BXewPwIk"
      }
    },
    {
      "cell_type": "markdown",
      "source": [
        "Построим график ROC-кривой для каждой модели. Покажем рисунок"
      ],
      "metadata": {
        "id": "yfnRI6QIP0ZW"
      }
    },
    {
      "cell_type": "code",
      "source": [
        "titles = [\"Highest score model\", \"Median score model\", \"Lowest score model\"]\n",
        "roc_curve_plot(trained_gb_models, X_test, y_test, titles)\n",
        "plt.show()"
      ],
      "metadata": {
        "colab": {
          "base_uri": "https://localhost:8080/",
          "height": 413
        },
        "id": "YRA4l9l7tnG2",
        "outputId": "b77c8a4d-811a-4709-b1ae-07245d723168"
      },
      "execution_count": null,
      "outputs": [
        {
          "output_type": "display_data",
          "data": {
            "text/plain": [
              "<Figure size 1200x400 with 3 Axes>"
            ],
            "image/png": "[encoded data removed]"
          },
          "metadata": {}
        }
      ]
    },
    {
      "cell_type": "markdown",
      "source": [
        "Единственный хороший результат у модели 1 -- график находится высоко относительно прямой, площадь под графиком близка к 1. Остальные модели показывают результат примерно на уровне случайного предсказания, то есть не обладают значительной различительной способностью. В случае модели 2 случайные предсказания оказываются даже лучше."
      ],
      "metadata": {
        "id": "tXL7O_IXP5yk"
      }
    },
    {
      "cell_type": "markdown",
      "source": [
        "Построим график precision-recall-кривой для каждой модели. Покажем рисунок"
      ],
      "metadata": {
        "id": "qhpoEYfOP86m"
      }
    },
    {
      "cell_type": "code",
      "source": [
        "titles = [\"Highest score model\", \"Median score model\", \"Lowest score model\"]\n",
        "precision_recall_plot(trained_gb_models, X_test, y_test, titles)\n",
        "plt.show()"
      ],
      "metadata": {
        "colab": {
          "base_uri": "https://localhost:8080/",
          "height": 413
        },
        "id": "9qFrvv6zxpK4",
        "outputId": "1ebab501-4583-412d-e3de-b485389936a2"
      },
      "execution_count": null,
      "outputs": [
        {
          "output_type": "display_data",
          "data": {
            "text/plain": [
              "<Figure size 1200x400 with 3 Axes>"
            ],
            "image/png": "[encoded data removed]"
          },
          "metadata": {}
        }
      ]
    },
    {
      "cell_type": "markdown",
      "source": [
        "Ожидаемо хороший и лучший результат только у модели 1. Точность падает рано при увеличенни `recall`, но все еще остается на высоком уровне. AUC очень высокий. Остальные модели плохо справляются с балансом точности и полноты и имеют более низкий AUC, то есть хуже различают классы. Модель 2 хоть и не имеет резкого скачка вниз на больших recall, как у модели 3, однако стабильно хуже по точности, лишь только в конце возрастая до примерно уровня точности модели 3."
      ],
      "metadata": {
        "id": "Dvv_510fQCLM"
      }
    },
    {
      "cell_type": "markdown",
      "source": [
        "Из трех моделей мы очевидно выбрали первую -- другие две с ней не соревнуются. Она имеет лучший результат на обучающей и тестовой выборках."
      ],
      "metadata": {
        "id": "C1T2666x40bP"
      }
    }
  ]
}